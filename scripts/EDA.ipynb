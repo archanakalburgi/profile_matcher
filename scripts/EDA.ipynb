{
  "nbformat": 4,
  "nbformat_minor": 0,
  "metadata": {
    "colab": {
      "name": "EDA.ipynb",
      "provenance": [],
      "collapsed_sections": []
    },
    "kernelspec": {
      "name": "python3",
      "display_name": "Python 3"
    },
    "language_info": {
      "name": "python"
    }
  },
  "cells": [
    {
      "cell_type": "code",
      "execution_count": null,
      "metadata": {
        "id": "GhmTvidWjmKF"
      },
      "outputs": [],
      "source": [
        "df = pd.DataFrame(data) "
      ]
    },
    {
      "cell_type": "code",
      "source": [
        "import numpy as np\n",
        "df['Job_Category'] = np.where(df['company'].str.contains('Engineer') == True, 'Data_Science', 0)\n",
        "df['Job_Category'] = np.where(df['company'].str.contains('Management') == True, 'Data_Analytics', df['Job_Category'])\n",
        "df['Job_Category'] = np.where(df['company'].str.contains('Quality') == True, 'Business_Analytics', df['Job_Category'])\n",
        "df['Job_Category'] = np.where(df['Job_Category'].str.contains('0') == True, 'Data_Science', df['Job_Category'])\n",
        "df['Job_Category'].value_counts()"
      ],
      "metadata": {
        "id": "nNtQ24Xpjujy"
      },
      "execution_count": null,
      "outputs": []
    },
    {
      "cell_type": "code",
      "source": [
        "import matplotlib.pyplot as plt\n",
        "import seaborn as sns\n",
        "\n",
        "plot = sns.countplot(df['Job_Category'],palette = \"husl\").set_title('Job_Category')\n",
        "plot.get_figure().savefig('Job_Category.png', bbox_inches='tight')"
      ],
      "metadata": {
        "id": "3unC5nGNjyQH"
      },
      "execution_count": null,
      "outputs": []
    },
    {
      "cell_type": "code",
      "source": [
        "df['Job'] = np.where(df['seniority_level']=='Internship',1,0)\n",
        "df['Job'] = np.where(df['seniority_level']=='Not Applicable',1,df['Job'])\n",
        "df['Job'] = np.where(df['Internship']== 0,0,df['Job'])\n",
        "\n",
        "df['Job'].value_counts()\n",
        "df = df.drop('Internship',axis=1)\n",
        "df = df.rename({'Job': 'Internship'}, axis=1)"
      ],
      "metadata": {
        "id": "bFGZ41xMj3O4"
      },
      "execution_count": null,
      "outputs": []
    },
    {
      "cell_type": "code",
      "source": [
        "plot = sns.countplot(df['Internship'],palette = \"husl\").set_title('Internship')\n",
        "plot.get_figure().savefig('Internship.png', bbox_inches='tight')"
      ],
      "metadata": {
        "id": "atqMaN4mj6U_"
      },
      "execution_count": null,
      "outputs": []
    },
    {
      "cell_type": "code",
      "source": [
        "import datetime\n",
        "today = '2021-11-01 00:00:00'\n",
        "today = pd.to_datetime(today)\n",
        "\n",
        "df['days_gone'] = today - df['date']\n",
        "df['days_gone'] = df['days_gone'].astype('str').str[:2].astype('int')"
      ],
      "metadata": {
        "id": "I0Gmk3dEj7O7"
      },
      "execution_count": null,
      "outputs": []
    },
    {
      "cell_type": "code",
      "source": [
        "conditions = [\n",
        "    (df['days_gone'] <= 30),\n",
        "    (df['days_gone'] > 30) & (df['days_gone'] <= 60),\n",
        "    (df['days_gone'] > 60) & (df['days_gone'] <= 90),\n",
        "    (df['days_gone'] > 90)\n",
        "    ]\n",
        "values = ['Recent', '1-Month', '2-Month', 'Old']\n",
        "\n",
        "df['date_band'] = np.select(conditions, values)"
      ],
      "metadata": {
        "id": "_cylK3Qpj-FK"
      },
      "execution_count": null,
      "outputs": []
    },
    {
      "cell_type": "code",
      "source": [
        "plot = sns.countplot(df['date_band'],palette = \"husl\").set_title('Job_Recency')\n",
        "plot.get_figure().savefig('Job_Recency.png', bbox_inches='tight')"
      ],
      "metadata": {
        "id": "vmsnyS7VkApS"
      },
      "execution_count": null,
      "outputs": []
    },
    {
      "cell_type": "code",
      "source": [
        "from wordcloud import WordCloud, STOPWORDS\n",
        "text = \" \".join(desc for desc in df.description)\n",
        "\n",
        "# Create stopword list:\n",
        "stopwords = set(STOPWORDS)\n",
        "\n",
        "wordcloud = WordCloud(stopwords=stopwords,max_font_size=500, max_words=500, background_color=\"white\", width=2000, height=2000).generate(text)\n",
        "\n",
        "# Display the generated image:\n",
        "plt.figure( figsize=(20,40) )\n",
        "plt.imshow(wordcloud, interpolation='bilinear')\n",
        "plt.axis(\"off\")\n",
        "plt.show()"
      ],
      "metadata": {
        "id": "HJnwjf88kGoY"
      },
      "execution_count": null,
      "outputs": []
    },
    {
      "cell_type": "code",
      "source": [
        "#after pre processing\n",
        "\n",
        "result = pd.DataFrame(result)\n",
        "\n",
        "text = \" \".join(map(str,result.description))\n",
        "\n",
        "# Create stopword list:\n",
        "stopwords = set(STOPWORDS)\n",
        "\n",
        "Cloud = WordCloud(stopwords=stopwords,max_font_size=500, max_words=500, background_color=\"white\", width=2000, height=2000).generate(text)\n",
        "\n",
        "# Display the generated image:\n",
        "plt.figure( figsize=(20,40) )\n",
        "plt.imshow(wordcloud, interpolation='bilinear')\n",
        "plt.axis(\"off\")\n",
        "plt.show()"
      ],
      "metadata": {
        "id": "5hdENyjAkKA_"
      },
      "execution_count": null,
      "outputs": []
    }
  ]
}