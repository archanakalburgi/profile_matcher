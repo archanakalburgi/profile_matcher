{
  "cells": [
    {
      "cell_type": "markdown",
      "metadata": {
        "id": "l0jQqEkCoUAa"
      },
      "source": [
        "# Installing Packages"
      ]
    },
    {
      "cell_type": "code",
      "execution_count": null,
      "metadata": {
        "colab": {
          "base_uri": "https://localhost:8080/"
        },
        "id": "9coqwVRqvLF-",
        "outputId": "ad2ccfaa-9aab-48d2-9038-da4e01f8c669"
      },
      "outputs": [
        {
          "name": "stdout",
          "output_type": "stream",
          "text": [
            "Requirement already satisfied: wordcloud in /usr/local/lib/python3.7/dist-packages (1.5.0)\n",
            "Requirement already satisfied: numpy>=1.6.1 in /usr/local/lib/python3.7/dist-packages (from wordcloud) (1.19.5)\n",
            "Requirement already satisfied: pillow in /usr/local/lib/python3.7/dist-packages (from wordcloud) (7.1.2)\n"
          ]
        }
      ],
      "source": [
        "pip install wordcloud"
      ]
    },
    {
      "cell_type": "code",
      "execution_count": null,
      "metadata": {
        "colab": {
          "base_uri": "https://localhost:8080/"
        },
        "id": "IOPxdqXSwkRC",
        "outputId": "f45990b5-be9b-44a6-f55c-66f2a64bc104"
      },
      "outputs": [
        {
          "name": "stdout",
          "output_type": "stream",
          "text": [
            "Collecting tika\n",
            "  Downloading tika-1.24.tar.gz (28 kB)\n",
            "Requirement already satisfied: setuptools in /usr/local/lib/python3.7/dist-packages (from tika) (57.4.0)\n",
            "Requirement already satisfied: requests in /usr/local/lib/python3.7/dist-packages (from tika) (2.23.0)\n",
            "Requirement already satisfied: certifi>=2017.4.17 in /usr/local/lib/python3.7/dist-packages (from requests->tika) (2021.10.8)\n",
            "Requirement already satisfied: chardet<4,>=3.0.2 in /usr/local/lib/python3.7/dist-packages (from requests->tika) (3.0.4)\n",
            "Requirement already satisfied: urllib3!=1.25.0,!=1.25.1,<1.26,>=1.21.1 in /usr/local/lib/python3.7/dist-packages (from requests->tika) (1.24.3)\n",
            "Requirement already satisfied: idna<3,>=2.5 in /usr/local/lib/python3.7/dist-packages (from requests->tika) (2.10)\n",
            "Building wheels for collected packages: tika\n",
            "  Building wheel for tika (setup.py) ... \u001b[?25l\u001b[?25hdone\n",
            "  Created wheel for tika: filename=tika-1.24-py3-none-any.whl size=32891 sha256=b77f4ebe60d8de78d5dea94ca637b1be2f0cfbcee96b6cab028be62e9b132b64\n",
            "  Stored in directory: /root/.cache/pip/wheels/ec/2b/38/58ff05467a742e32f67f5d0de048fa046e764e2fbb25ac93f3\n",
            "Successfully built tika\n",
            "Installing collected packages: tika\n",
            "Successfully installed tika-1.24\n"
          ]
        }
      ],
      "source": [
        "pip install tika"
      ]
    },
    {
      "cell_type": "markdown",
      "metadata": {
        "id": "Qk_7GKXioaq5"
      },
      "source": [
        "#  Dependencies Imported\n",
        "Libraries:\n",
        "- scikit \n",
        "- gensim \n",
        "- nltk\n",
        "- spacy\n",
        "- tika\n",
        "- wordcloud\n",
        "- matplotlib\n",
        "- numpy\n",
        "- pandas\n",
        "- re"
      ]
    },
    {
      "cell_type": "code",
      "execution_count": null,
      "metadata": {
        "colab": {
          "base_uri": "https://localhost:8080/"
        },
        "id": "Ar-PVTQyN9YN",
        "outputId": "9651ee96-8045-49d4-dd5b-3228e14e5701"
      },
      "outputs": [
        {
          "name": "stdout",
          "output_type": "stream",
          "text": [
            "[nltk_data] Downloading package punkt to /root/nltk_data...\n",
            "[nltk_data]   Unzipping tokenizers/punkt.zip.\n",
            "[nltk_data] Downloading package stopwords to /root/nltk_data...\n",
            "[nltk_data]   Unzipping corpora/stopwords.zip.\n",
            "[nltk_data] Downloading package wordnet to /root/nltk_data...\n",
            "[nltk_data]   Unzipping corpora/wordnet.zip.\n"
          ]
        }
      ],
      "source": [
        "# scikit\n",
        "from sklearn.metrics.pairwise import cosine_similarity\n",
        "from sklearn.feature_extraction.text import TfidfVectorizer\n",
        "from sklearn.feature_extraction.text import CountVectorizer\n",
        "from sklearn.feature_extraction.text import TfidfTransformer\n",
        "\n",
        "# gensim\n",
        "from gensim.summarization.summarizer import summarize\n",
        "from gensim.summarization import keywords\n",
        "from gensim.models import word2vec\n",
        "from gensim.models import KeyedVectors\n",
        "from gensim.models import Word2Vec\n",
        "\n",
        "\n",
        "# nltk\n",
        "import nltk\n",
        "from nltk.tokenize import word_tokenize\n",
        "nltk.download('punkt')\n",
        "\n",
        "nltk.download('stopwords')\n",
        "#Stop words present in the library\n",
        "stopwords = nltk.corpus.stopwords.words('english')\n",
        "\n",
        "nltk.download('wordnet')\n",
        "\n",
        "\n",
        "\n",
        "# model\n",
        "import spacy\n",
        "import en_core_web_sm\n",
        "\n",
        "# parsing\n",
        "from tika import parser\n",
        "\n",
        "# visulization\n",
        "from wordcloud import WordCloud\n",
        "from sklearn.preprocessing import normalize\n",
        "from sklearn.manifold import TSNE\n",
        "from matplotlib import pylab\n",
        "import matplotlib.pyplot as plt\n",
        "\n",
        "# others\n",
        "import string\n",
        "from collections import Counter\n",
        "import pandas as pd\n",
        "import numpy as np\n",
        "import re\n",
        "import logging\n",
        "\n",
        "% matplotlib inline\n",
        "\n",
        "# pretrained embeddings\n",
        "nlp = en_core_web_sm.load()"
      ]
    },
    {
      "cell_type": "markdown",
      "metadata": {
        "id": "uiDMh-hSokEb"
      },
      "source": [
        "# Cosine Similarity for Text Matching\n",
        "\n",
        "Matching two documents is equivalent to matching two sentences. ( Check example below how two sentences are matched )\n",
        "\n",
        "Matching Resume and Job :\n",
        "\n",
        "- Transform Resume Content to one single sentence\n",
        "- Transform Job Description to one single sentence\n",
        "- Extract features from the two documents by transforming them into Vectors in defined dimensions\n",
        "- Apply Cosine Similarity to find the match between these two sentences. \n",
        "\n",
        "Shape for Vector Comparison: (2 , dimension)\n",
        "- Job (dimension, )\n",
        "- Resume (dimension, )\n",
        "\n",
        "> From Lecture : NLP II\n",
        ">> We learnt about the `Cosine similarity` and `Vectorization` ( convert text to number which defines each words as a feature )"
      ]
    },
    {
      "cell_type": "code",
      "execution_count": null,
      "metadata": {
        "colab": {
          "base_uri": "https://localhost:8080/"
        },
        "id": "iYP0RHJrouGE",
        "outputId": "7046e4e0-3522-44b0-97a7-5799588ecdf0"
      },
      "outputs": [
        {
          "name": "stdout",
          "output_type": "stream",
          "text": [
            "(2, 6)\n"
          ]
        }
      ],
      "source": [
        "documents = (\n",
        "\"The sky is blue\",\n",
        "\"The sun is bright\"\n",
        ")\n",
        "tfidf_vectorizer = TfidfVectorizer()\n",
        "tfidf_matrix = tfidf_vectorizer.fit_transform(documents)\n",
        "print(tfidf_matrix.shape)"
      ]
    },
    {
      "cell_type": "code",
      "execution_count": null,
      "metadata": {
        "colab": {
          "base_uri": "https://localhost:8080/"
        },
        "id": "okXT_bIgo3BG",
        "outputId": "afda48fe-6508-4aaa-abe6-0cbe461306e5"
      },
      "outputs": [
        {
          "data": {
            "text/plain": [
              "array([[1.        , 0.33609693]])"
            ]
          },
          "execution_count": 5,
          "metadata": {},
          "output_type": "execute_result"
        }
      ],
      "source": [
        "cosine_similarity(tfidf_matrix[0:1], tfidf_matrix)\n",
        "# first is similar to itself\n",
        "# first is 33% similar to second sentence"
      ]
    },
    {
      "cell_type": "code",
      "execution_count": null,
      "metadata": {
        "colab": {
          "base_uri": "https://localhost:8080/"
        },
        "id": "UVOgVHxkpYFN",
        "outputId": "6076dadc-afc1-406e-b064-33394e92c511"
      },
      "outputs": [
        {
          "data": {
            "text/plain": [
              "0.3360969272762575"
            ]
          },
          "execution_count": 6,
          "metadata": {},
          "output_type": "execute_result"
        }
      ],
      "source": [
        "cosine_similarity(tfidf_matrix)[0][1] \n",
        "# from the matrix compare ith to jth\n",
        "# so that is compare 0th sentence to 1th sentence"
      ]
    },
    {
      "cell_type": "code",
      "execution_count": null,
      "metadata": {
        "colab": {
          "base_uri": "https://localhost:8080/"
        },
        "id": "vOYKCGn_puYM",
        "outputId": "a7ca254b-73d2-4b17-dc28-6489c9db12fc"
      },
      "outputs": [
        {
          "data": {
            "text/plain": [
              "(1, 6)"
            ]
          },
          "execution_count": 7,
          "metadata": {},
          "output_type": "execute_result"
        }
      ],
      "source": [
        "tfidf_matrix[0].shape"
      ]
    },
    {
      "cell_type": "code",
      "execution_count": null,
      "metadata": {
        "colab": {
          "base_uri": "https://localhost:8080/"
        },
        "id": "jBeN6yWxpMdu",
        "outputId": "1e88dd18-1a85-4be7-d127-ab46487ff8fa"
      },
      "outputs": [
        {
          "data": {
            "text/plain": [
              "array([[1.        , 0.33609693],\n",
              "       [0.33609693, 1.        ]])"
            ]
          },
          "execution_count": 8,
          "metadata": {},
          "output_type": "execute_result"
        }
      ],
      "source": [
        "cosine_similarity(tfidf_matrix)"
      ]
    },
    {
      "cell_type": "markdown",
      "metadata": {
        "id": "eLIYkV7ZzC6Y"
      },
      "source": [
        "# Initial Analysis \n",
        "\n",
        "***(Attention!!! User Input Required to run this Section; If you are looking to run the final output, go to last section Profile Matcher)***\n",
        "\n",
        "\n",
        "Approaches for Matching\n",
        "1. CountVectorizer\n",
        "2. TFIDF Vectorizer\n",
        "3. Pre Trained Word Embeddings\n",
        "\n",
        "Similarity Function: Cosine Distance\n",
        "\n",
        "> From Lecture : NLP II\n",
        ">> Tokens , Frequence Distribution of Words , TF-IDF \n",
        "----\n",
        "\n"
      ]
    },
    {
      "cell_type": "markdown",
      "metadata": {
        "id": "4MQE9vwriPX8"
      },
      "source": [
        "## Input Resume and Job (User Input Required ) \n",
        "\n"
      ]
    },
    {
      "cell_type": "code",
      "execution_count": null,
      "metadata": {
        "colab": {
          "base_uri": "https://localhost:8080/"
        },
        "id": "rn5Iu1ZKiOel",
        "outputId": "3265f845-06a1-4d28-b8cc-3379b8ab4929"
      },
      "outputs": [
        {
          "name": "stderr",
          "output_type": "stream",
          "text": [
            "2021-12-05 21:15:54,715 [MainThread  ] [INFO ]  Retrieving http://search.maven.org/remotecontent?filepath=org/apache/tika/tika-server/1.24/tika-server-1.24.jar to /tmp/tika-server.jar.\n",
            "2021-12-05 21:15:59,462 [MainThread  ] [INFO ]  Retrieving http://search.maven.org/remotecontent?filepath=org/apache/tika/tika-server/1.24/tika-server-1.24.jar.md5 to /tmp/tika-server.jar.md5.\n",
            "2021-12-05 21:16:00,664 [MainThread  ] [WARNI]  Failed to see startup log message; retrying...\n"
          ]
        }
      ],
      "source": [
        "#  Parse PDF file using Tika\n",
        "parsed = parser.from_file('/content/drive/MyDrive/Colab Notebooks/archana_kalburgi_cv.docx')\n",
        "\n",
        "\n",
        "# pre-processing\n",
        "# 1. remove all \\n{3} with \\n\\n\n",
        "# 2. keep \\n\\n as separation of headings\n",
        "parsed_resume = re.sub(r'\\n{3,}', '\\n\\n', parsed[\"content\"]).strip()\n",
        "resume_text = str(parsed_resume)"
      ]
    },
    {
      "cell_type": "code",
      "execution_count": null,
      "metadata": {
        "colab": {
          "base_uri": "https://localhost:8080/"
        },
        "id": "DoS24csbiaGC",
        "outputId": "ea15b0da-fb24-4687-b76a-455f2bcda14c"
      },
      "outputs": [
        {
          "name": "stdout",
          "output_type": "stream",
          "text": [
            "Example You can enter job description from link: https://flatiron.com/careers/open-positions/3400041?gh_jid=3400041&gh_src=64d3b9c11us\n",
            "Enter Job description : Software Engineering Intern (Summer 2022) NYC We're looking for 2022 Summer Software Engineering Interns who will help us accomplish our mission to improve lives by learning from the experience of every cancer patient. Here's what you need to know about the internship role, our engineering team and why Flatiron Health is the right next step in building your career.   What You'll Do  Spend 12 weeks embedded in a fast-paced scrum team Design, plan, and build a project under the guidance of an experienced engineering mentor Whiteboard ideas, write code, work with stakeholders, and present your work  Learn more about cancer and the day-to-day intricacies of oncology than you can possibly imagine We have openings for engineering interns across all our different product lines and technology stacks. We welcome engineering students with a genuine passion about software engineering, whether that be in the interest in working with data or building new product features, focusing on the backend or exploring more fullstack roles - We have something for you!   Who You Are You are graduating between December 2022 and June 2023 with a BS or MS in computer science or a related field. You're excited by the prospect of rolling up your sleeves to tackle meaningful problems each and every day. You’re a kind, passionate and collaborative problem-solver who seeks and gives candid feedback, and values the chance to make an important impact.   You write clean, well-structured code You have experience working in a fast-paced company You are enthusiastic about working on a multi-disciplinary team You are passionate about our mission to improve healthcare through technology  If this sounds like you, you'll fit right in at Flatiron. \n"
          ]
        }
      ],
      "source": [
        "# Prompt for the Job description.\n",
        "print(\"Example You can enter job description from link: https://flatiron.com/careers/open-positions/3400041?gh_jid=3400041&gh_src=64d3b9c11us\")\n",
        "job_text = input(\"Enter Job description : \") \n",
        "# Convert text to string format\n",
        "job_text = str(job_text)"
      ]
    },
    {
      "cell_type": "markdown",
      "metadata": {
        "id": "HMYWCqQ5hVl8"
      },
      "source": [
        "## Defined Common Similarity Comparison Across Approached Explored\n",
        "\n",
        "> matrixx shape : (2, dim)"
      ]
    },
    {
      "cell_type": "code",
      "execution_count": null,
      "metadata": {
        "id": "RJ6NYc-UhTen"
      },
      "outputs": [],
      "source": [
        "def calculate_similarity(matrixx):\n",
        "  ## from section for \"Cosine Similarity\" \n",
        "  ## [0][1] position gives the matching value for two documents being compared\n",
        "  matchPercentage = cosine_similarity(matrixx)[0][1] * 100\n",
        "  matchPercentage = round(matchPercentage, 2) # round to two decimal\n",
        "  print(\"Your resume matches about \"+ str(matchPercentage)+ \"% of the job description.\")\n",
        "  return matchPercentage"
      ]
    },
    {
      "cell_type": "markdown",
      "metadata": {
        "id": "bx9JBD_NN2S-"
      },
      "source": [
        "## Simple Resume - Job Matcher Using Keyword Matching\n",
        "\n",
        "Keyword matching: check if both the documents have common keywords. If we can use this information, we can find some common matches between two documents.\n",
        "\n",
        "Example Resume have `Technical skills section` and Job have `Qualifications` section"
      ]
    },
    {
      "cell_type": "code",
      "execution_count": null,
      "metadata": {
        "id": "LFGgN_MMhs3c"
      },
      "outputs": [],
      "source": [
        "def find_keywords(job_text, resume_text, curr_ratio ):\n",
        "  # gives you the keywords of the job description\n",
        "  print(\"Job description Keywords: \")\n",
        "  print(keywords(job_text, ratio=curr_ratio)) \n",
        "  print(\"\\nResume description Keywords: \")\n",
        "  print(keywords(resume_text, ratio=curr_ratio)) "
      ]
    },
    {
      "cell_type": "code",
      "execution_count": null,
      "metadata": {
        "colab": {
          "base_uri": "https://localhost:8080/"
        },
        "id": "1YgrY0yojyJ6",
        "outputId": "5cfefa5d-4ff3-4843-8bfa-1aafe8faea34"
      },
      "outputs": [
        {
          "name": "stdout",
          "output_type": "stream",
          "text": [
            "Job description Keywords: \n",
            "engineering\n",
            "product\n",
            "team\n",
            "problems\n",
            "problem\n",
            "working\n",
            "code work\n",
            "\n",
            "Resume description Keywords: \n",
            "data\n",
            "python\n",
            "learning\n",
            "machine\n",
            "technology\n",
            "technological\n",
            "technologies\n",
            "analysis\n",
            "archanakalburgi\n",
            "nlp\n",
            "language\n",
            "languages\n",
            "decision\n",
            "helped\n",
            "help\n",
            "web\n",
            "mining\n",
            "variables\n",
            "variable\n"
          ]
        }
      ],
      "source": [
        "find_keywords(job_text, resume_text, 0.1)"
      ]
    },
    {
      "cell_type": "markdown",
      "metadata": {
        "id": "H4uDMXaPiCCS"
      },
      "source": [
        "### CountVectorizer / TFIDF Vectorizer\n",
        "\n"
      ]
    },
    {
      "cell_type": "code",
      "execution_count": null,
      "metadata": {
        "colab": {
          "base_uri": "https://localhost:8080/"
        },
        "id": "xnKdmqdQbLG5",
        "outputId": "ac9f5758-4b45-4e48-da0f-70ed70bb2dcb"
      },
      "outputs": [
        {
          "data": {
            "text/plain": [
              "(2, 349)"
            ]
          },
          "execution_count": 14,
          "metadata": {},
          "output_type": "execute_result"
        }
      ],
      "source": [
        "# CountVectorizer applied on some collection of strings\n",
        "# occurences mapped to feature index\n",
        "text_list = [resume_text, job_text]\n",
        "cv = CountVectorizer()\n",
        "count_matrix = cv.fit_transform(text_list)\n",
        "count_matrix.shape"
      ]
    },
    {
      "cell_type": "code",
      "execution_count": null,
      "metadata": {
        "colab": {
          "base_uri": "https://localhost:8080/"
        },
        "id": "RbJJ_7fTcDYs",
        "outputId": "940adbd5-23b7-482b-dff2-7bc8c703ee6c"
      },
      "outputs": [
        {
          "name": "stdout",
          "output_type": "stream",
          "text": [
            "Your resume matches about 43.48% of the job description.\n"
          ]
        }
      ],
      "source": [
        "cv_similarity = calculate_similarity(count_matrix)"
      ]
    },
    {
      "cell_type": "code",
      "execution_count": null,
      "metadata": {
        "colab": {
          "base_uri": "https://localhost:8080/"
        },
        "id": "ATvpyXscTQlQ",
        "outputId": "6a514e05-3d2f-401a-d8fa-05dfa611b026"
      },
      "outputs": [
        {
          "data": {
            "text/plain": [
              "(2, 349)"
            ]
          },
          "execution_count": 16,
          "metadata": {},
          "output_type": "execute_result"
        }
      ],
      "source": [
        "# frequencies mapped to feature index\n",
        "tf_transformer = TfidfTransformer(use_idf=False).fit(count_matrix)\n",
        "X_train_tf = tf_transformer.transform(count_matrix)\n",
        "X_train_tf.shape"
      ]
    },
    {
      "cell_type": "code",
      "execution_count": null,
      "metadata": {
        "colab": {
          "base_uri": "https://localhost:8080/"
        },
        "id": "n-t8Fk93cPgK",
        "outputId": "2f12e926-695a-44a2-f2bd-9b587dc4df46"
      },
      "outputs": [
        {
          "name": "stdout",
          "output_type": "stream",
          "text": [
            "Your resume matches about 43.48% of the job description.\n"
          ]
        }
      ],
      "source": [
        "tf_similarity = calculate_similarity(X_train_tf)"
      ]
    },
    {
      "cell_type": "code",
      "execution_count": null,
      "metadata": {
        "colab": {
          "base_uri": "https://localhost:8080/"
        },
        "id": "xH_rko2VTm1-",
        "outputId": "1bb3b2e0-4034-4317-8b94-ee6e4ebde925"
      },
      "outputs": [
        {
          "data": {
            "text/plain": [
              "(2, 349)"
            ]
          },
          "execution_count": 18,
          "metadata": {},
          "output_type": "execute_result"
        }
      ],
      "source": [
        "tfidf_transformer = TfidfTransformer()\n",
        "X_train_tfidf = tfidf_transformer.fit_transform(count_matrix)\n",
        "X_train_tfidf.shape"
      ]
    },
    {
      "cell_type": "code",
      "execution_count": null,
      "metadata": {
        "colab": {
          "base_uri": "https://localhost:8080/"
        },
        "id": "zcBg6h-zcRir",
        "outputId": "cf03cdea-717a-409a-9d10-a6daa85c6c61"
      },
      "outputs": [
        {
          "name": "stdout",
          "output_type": "stream",
          "text": [
            "Your resume matches about 30.2% of the job description.\n"
          ]
        }
      ],
      "source": [
        "tfidf_similarity = calculate_similarity(X_train_tfidf)"
      ]
    },
    {
      "cell_type": "markdown",
      "metadata": {
        "id": "F7DX2wYplrN5"
      },
      "source": [
        "### Initial Results\n",
        "\n",
        "Keyword Matching, the system does not provide a strong matching result in every common cases. we need better approach to calculate the similarity\n",
        "\n",
        "----"
      ]
    },
    {
      "cell_type": "markdown",
      "metadata": {
        "id": "tL46tFfFiZ2y"
      },
      "source": [
        "## Advanced Matching -  using  Pre Trained Word Embeddings for Semantic Matching \n",
        "\n",
        "Ref: https://spacy.io/usage/spacy-101#vectors-similarity\n",
        "\n",
        "If we understand the context around the word, we can get better matches. \n",
        "\n",
        "Here exploring Pre trained embeddings English model from Spacy."
      ]
    },
    {
      "cell_type": "markdown",
      "metadata": {
        "id": "raWtoi4Sicpz"
      },
      "source": [
        "### Pretrained Embeddings\n",
        "\n",
        "\n",
        "\n",
        "> nlp(doc) gives 96 measurements for any sentence\n",
        "\n"
      ]
    },
    {
      "cell_type": "code",
      "execution_count": null,
      "metadata": {
        "colab": {
          "base_uri": "https://localhost:8080/"
        },
        "id": "uAGS8zGmsBuY",
        "outputId": "63156b4a-5aa0-4421-82d5-c6f3c4130870"
      },
      "outputs": [
        {
          "data": {
            "text/plain": [
              "(96,)"
            ]
          },
          "execution_count": 20,
          "metadata": {},
          "output_type": "execute_result"
        }
      ],
      "source": [
        "# Example\n",
        "# process a sentence using the model\n",
        "doc = nlp(\"This is some text that I am processing with Spacy\")\n",
        "# Get the mean vector for the entire sentence (useful for sentence classification etc.)\n",
        "doc.vector.shape"
      ]
    },
    {
      "cell_type": "markdown",
      "metadata": {
        "id": "_ock0tgYmuE8"
      },
      "source": [
        "Transform resume and job to the vector representation"
      ]
    },
    {
      "cell_type": "code",
      "execution_count": null,
      "metadata": {
        "colab": {
          "base_uri": "https://localhost:8080/"
        },
        "id": "E0yD9D6q8fHI",
        "outputId": "b29a3188-9985-4768-8961-13331568d24c"
      },
      "outputs": [
        {
          "name": "stdout",
          "output_type": "stream",
          "text": [
            "96\n",
            "96\n"
          ]
        }
      ],
      "source": [
        "# process a sentence using the model\n",
        "doc = nlp(resume_text)\n",
        "# It's that simple - all of the vectors and words are assigned after this point\n",
        "# Get the vector for 'text':\n",
        "print(len(doc[3].vector))\n",
        "print(len(doc[1].vector))"
      ]
    },
    {
      "cell_type": "markdown",
      "metadata": {
        "id": "aTHF1bph4jKa"
      },
      "source": [
        "As we are looking for sentence level vector for similarity comparison, we will need to find the mean vector for the entire sentence which will represent our document as a whole."
      ]
    },
    {
      "cell_type": "code",
      "execution_count": null,
      "metadata": {
        "colab": {
          "base_uri": "https://localhost:8080/"
        },
        "id": "1AwdKIxxro7A",
        "outputId": "fc0085f3-9f67-46d8-9cfc-e8bb0e327764"
      },
      "outputs": [
        {
          "data": {
            "text/plain": [
              "96"
            ]
          },
          "execution_count": 22,
          "metadata": {},
          "output_type": "execute_result"
        }
      ],
      "source": [
        "# Get the mean vector for the entire sentence \n",
        "# (useful for sentence classification etc.)\n",
        "len(doc.vector)"
      ]
    },
    {
      "cell_type": "code",
      "execution_count": null,
      "metadata": {
        "colab": {
          "base_uri": "https://localhost:8080/"
        },
        "id": "pt7H6Q4Krv_P",
        "outputId": "b19eef1f-dd27-483b-95b6-0dd91aef8172"
      },
      "outputs": [
        {
          "data": {
            "text/plain": [
              "(96,)"
            ]
          },
          "execution_count": 23,
          "metadata": {},
          "output_type": "execute_result"
        }
      ],
      "source": [
        "doc.vector.shape # each word has 96 dimensions, we want a doc to be of 96 dimensions"
      ]
    },
    {
      "cell_type": "code",
      "execution_count": null,
      "metadata": {
        "colab": {
          "base_uri": "https://localhost:8080/"
        },
        "id": "lSZX6nAgifvE",
        "outputId": "0e8c64a8-42dd-4651-8e3f-8770e4839dff"
      },
      "outputs": [
        {
          "name": "stdout",
          "output_type": "stream",
          "text": [
            "Total:  2 different vectors\n",
            "Resume Text:  96 measurements\n",
            "Job Text:  96 measurements\n",
            "Your resume matches about 76.18% of the job description.\n"
          ]
        }
      ],
      "source": [
        "text_list = [resume_text, job_text]\n",
        "vectors = [nlp(sentence).vector for sentence in text_list]\n",
        "\n",
        "print(\"Total: \", len(vectors), \"different vectors\")\n",
        "print(\"Resume Text: \", len(vectors[0]), \"measurements\")\n",
        "print(\"Job Text: \", len(vectors[1]), \"measurements\")\n",
        "pre_embeddings_similarity = calculate_similarity(vectors)"
      ]
    },
    {
      "cell_type": "markdown",
      "metadata": {
        "id": "t2jzpbH-533_"
      },
      "source": [
        "### Initial Results\n",
        "\n",
        "Pretrained embeddings similarity matches good on both positive and negative samples, making it not reliable."
      ]
    },
    {
      "cell_type": "markdown",
      "metadata": {
        "id": "WfDss51Ps_J8"
      },
      "source": [
        "## Comparison of Similarities for the User Input Above"
      ]
    },
    {
      "cell_type": "code",
      "execution_count": null,
      "metadata": {
        "colab": {
          "base_uri": "https://localhost:8080/"
        },
        "id": "4Y5THEbltxrr",
        "outputId": "2657a4d0-5f41-4d83-e3c2-13a86030db39"
      },
      "outputs": [
        {
          "name": "stdout",
          "output_type": "stream",
          "text": [
            "CountVectorizer Similarity:  43.48\n",
            "TF Similarity:  43.48\n",
            "TFIDF Similarity:  30.2\n",
            "Pre Trained Embeddings Similarity:  76.18\n"
          ]
        }
      ],
      "source": [
        "print(\"CountVectorizer Similarity: \", cv_similarity)\n",
        "print(\"TF Similarity: \", tf_similarity)\n",
        "print(\"TFIDF Similarity: \", tfidf_similarity)\n",
        "print(\"Pre Trained Embeddings Similarity: \", pre_embeddings_similarity)\n",
        "# print(\"Embeddings Similarity: \", embeddings_similarity)"
      ]
    },
    {
      "cell_type": "markdown",
      "metadata": {
        "id": "ju2FbdBY47D-"
      },
      "source": [
        "# Results from Initial Analysis\n",
        "\n",
        "From the initial analysis done on comparison for the resume with multiple jobs showed that pre trained embeddings actually preforming poorly compared to the keyword matching approaches.\n",
        "\n",
        "With the understanding of these results, if semantic similarity makes more sense as resume and job language are mostly around the same lines, we thought of building our own embeddings model which corpus is fixed to job description. This would allow us to match the specific language and context around the words for better matches.\n",
        "\n",
        "----"
      ]
    },
    {
      "cell_type": "markdown",
      "metadata": {
        "id": "Fak4S-ozigbr"
      },
      "source": [
        "# Approach: Train our own Embeddings using Word2Vec\n",
        "We have scraped job data from LinkedIn to build this word embeddings instead of keyword matching or pretrained embeddings to get more optimum results.\n",
        "\n",
        "\n",
        "> From Lecture: NLP III\n",
        ">> Learnt about Genism and Word2Vec Models"
      ]
    },
    {
      "cell_type": "markdown",
      "metadata": {
        "id": "mPKNHbT6M0iS"
      },
      "source": [
        "# Datasets"
      ]
    },
    {
      "cell_type": "markdown",
      "metadata": {
        "id": "_j2yNEHYNdao"
      },
      "source": [
        "## Linkedin Scraped Job Datasets\n",
        "\n",
        "> From Lecture: API/Web Scraping\n",
        "\n"
      ]
    },
    {
      "cell_type": "code",
      "execution_count": null,
      "metadata": {
        "id": "v9Z348L2Mtk4"
      },
      "outputs": [],
      "source": [
        "df = pd.concat(pd.read_excel('/content/drive/MyDrive/660-jobs-data/all_scrapped_jobs.xlsx', sheet_name=None), ignore_index=True)"
      ]
    },
    {
      "cell_type": "code",
      "execution_count": null,
      "metadata": {
        "colab": {
          "base_uri": "https://localhost:8080/"
        },
        "id": "0aqPZaAAg1OA",
        "outputId": "b78e3204-3048-4bb1-ea4a-3b4465f11ad5"
      },
      "outputs": [
        {
          "data": {
            "text/plain": [
              "<bound method NDFrame.describe of                                                   title  ...                   place\n",
              "0          Process Manufacturing Engineer (Entry Level)  ...                     NaN\n",
              "1     Entry Level Engineer / Engineering Development...  ...                     NaN\n",
              "2                                      Quality Engineer  ...                     NaN\n",
              "3          Process Manufacturing Engineer (Entry Level)  ...                     NaN\n",
              "4     Entry Level Global Product Development - Hardw...  ...                     NaN\n",
              "...                                                 ...  ...                     ...\n",
              "2864  Software Engineer Intern - Security Master (Su...  ...  Los Angeles, CA Remote\n",
              "2865               DevOps Engineer Intern (Summer 2022)  ...              Irvine, CA\n",
              "2866  Field/Office Engineer Intern - Heavy Civil - N...  ...            Honolulu, HI\n",
              "2867  Field/Office Engineer Intern - Central Distric...  ...            Lonetree, CO\n",
              "2868    Software Engineer Intern (Remote - Summer 2022)  ...      Atlanta, GA Remote\n",
              "\n",
              "[2869 rows x 10 columns]>"
            ]
          },
          "execution_count": 27,
          "metadata": {},
          "output_type": "execute_result"
        }
      ],
      "source": [
        "df.describe"
      ]
    },
    {
      "cell_type": "code",
      "execution_count": null,
      "metadata": {
        "colab": {
          "base_uri": "https://localhost:8080/"
        },
        "id": "MvkTBhh7hh57",
        "outputId": "dfb789d8-8a2d-4e2d-c8bf-3a36027e41ef"
      },
      "outputs": [
        {
          "data": {
            "text/plain": [
              "Index(['title', 'company', 'location', 'date', 'link', 'apply_link',\n",
              "       'description', 'seniority_level', 'job_function', 'place'],\n",
              "      dtype='object')"
            ]
          },
          "execution_count": 28,
          "metadata": {},
          "output_type": "execute_result"
        }
      ],
      "source": [
        "df.columns"
      ]
    },
    {
      "cell_type": "markdown",
      "metadata": {
        "id": "c1e9hc46lE5U"
      },
      "source": [
        "## Resume Datasets\n",
        "\n",
        "\n",
        "\n",
        "\n",
        "\n",
        "Given a set of resumes, with different file types, such as doc, Docx, and pdf, those files will be processed by Tika (http://tika.apache.org) to get the raw text, where table layouts, font type, and font colors will be removed.\n",
        "\n",
        "\n",
        "> From Lecture : Web ScrapingIII 4. Parse PDF Files\n",
        "\n",
        "Note: We have collected few resumes but not using this for word embeddings training yet.  The idea is to explore this for future scope."
      ]
    },
    {
      "cell_type": "code",
      "execution_count": null,
      "metadata": {
        "id": "rt7lFvWpabrt"
      },
      "outputs": [],
      "source": [
        "# # 4.1. Parse PDF file using Tika\n",
        "parsed = parser.from_file('/content/drive/MyDrive/Colab Notebooks/archana_kalburgi_cv.docx')\n",
        "\n",
        "# Print meta data of the pdf file\n",
        "# print(parsed[\"metadata\"])\n",
        "# Print the text of the pdf file\n",
        "# print(parsed[\"content\"])\n",
        "\n",
        "\n",
        "# remove all \\n{3} with \\n\\n\n",
        "# keep \\n\\n as separation of headings\n",
        "parsed_resume = re.sub(r'\\n{3,}', '\\n\\n', parsed[\"content\"]).strip()"
      ]
    },
    {
      "cell_type": "code",
      "execution_count": null,
      "metadata": {
        "colab": {
          "base_uri": "https://localhost:8080/"
        },
        "id": "VqNT_uhrxoIE",
        "outputId": "5e25e02d-a0cb-432f-d712-730d4c3ac740"
      },
      "outputs": [
        {
          "name": "stdout",
          "output_type": "stream",
          "text": [
            "ARCHANA KALBURGI \n",
            "archanakalburgi@gmail.com   https://archanakalburgi.github.io \n",
            "EDUCATION \n",
            "Stevens Institute of Technology GPA: 4.0 Masters of Science, Machine Learning Jan 2021 - (Expected) Dec, 2022 \n",
            "Visvesvaraya Technological University \n",
            "Bachelor of Engineering, Computer Science 2011 - 2015 \n",
            "COURSES \n",
            "Machine Learning Fundamentals and Applications, Knowledge Discovery and Data Mining, Deep Learning, Web Mining \n",
            "EXPERIENCE \n",
            "IOP Technologies Aug 2018 - March, 2020 Data Engineer Bangalore, Karnataka \n",
            "· Designed and developed data ingestion pipeline (ETL) from 4 different structured data sources · Implemented web scraping modules using Beautiful Soup \n",
            "· Helped develop ML module for predicting prices to help make buy/sell decision for electricity units in the Australian market using Facebook’s Prophet (Python) \n",
            "PROJECTS \n",
            "Job Change Prediction (Python) \n",
            "· Implemented machine learning (ML) algorithms over Kaggle HR Analytic data set to predict if an employee would quit or stay in the company and analyzed the performance of the algorithms · Performed Exploratory Data Analysis (EDA) to obtain insights from the data \n",
            "· Derived the correlation between the predictor variables and the target variable, which in turn helped to obtain the most contributing features in decision-making \n",
            "· Spearheaded a team of four in organizing and delivery of the project \n",
            "Sentiment Analysis for IMDB Movie Reviews (Python) \n",
            "· Implemented a classification system to classify the IMDB movie reviews into positive and negative sentiments over the Kaggle IMDB data set \n",
            "· Extracted feature-set from the reviews using natural language processing (NLP) techniques and reduced the higher dimension data to a lower dimension using principal component analysis (PCA) · Applied classification algorithms and tabulated the results before and after the feature extraction, which helped in fine-tuning the performance of the algorithms \n",
            "TECHNICAL STRENGTHS \n",
            "Languages Python, Java, R, Object Oriented Programming (OOP) \n",
            "Database PostgreSQL, SQLite \n",
            "Machine Learning k nearest neighbor(KNN), naive bayes, logistic regression, linear regression, support vector machine(SVM), random forest(RF), \n",
            "decision trees \n",
            "Tools/Framework Avro, Numpy, Pandas, tensorflow, scikit-learn, matplotlib, seaborn, NLP, NLTK, GIT, Flask, Jupyter Notebook, Microsoft Excel, Google Colaboratory\n"
          ]
        }
      ],
      "source": [
        "print(parsed_resume)"
      ]
    },
    {
      "cell_type": "markdown",
      "metadata": {
        "id": "AH9SSHTb-nGa"
      },
      "source": [
        "# Data Analysis"
      ]
    },
    {
      "cell_type": "markdown",
      "metadata": {
        "id": "Ul9qtUiUzFWk"
      },
      "source": [
        "## Raw Data (Job and Resume) Visualization using Displacy\n",
        "\n",
        "\n",
        "\n",
        "> From Lecture: NLP III \n",
        ">> Learnt about NLP tagging and using Displacy to visualize text\n",
        "\n"
      ]
    },
    {
      "cell_type": "code",
      "execution_count": null,
      "metadata": {
        "id": "IC36xtd2zNCU"
      },
      "outputs": [],
      "source": [
        "# https://spacy.io/usage/visualizers\n",
        "import spacy\n",
        "from spacy import displacy\n",
        "from IPython.core.display import display, HTML\n",
        "nlp = spacy.load('en')"
      ]
    },
    {
      "cell_type": "code",
      "execution_count": null,
      "metadata": {
        "colab": {
          "base_uri": "https://localhost:8080/",
          "height": 507
        },
        "id": "Ck8hXkDHxVUc",
        "outputId": "1211f5ca-61ef-45bc-ab68-064278f5c893"
      },
      "outputs": [
        {
          "data": {
            "text/html": [
              "<span class=\"tex2jax_ignore\"><div class=\"entities\" style=\"line-height: 2.5; direction: ltr\">Software Engineering Intern (\n",
              "<mark class=\"entity\" style=\"background: #bfe1d9; padding: 0.45em 0.6em; margin: 0 0.25em; line-height: 1; border-radius: 0.35em;\">\n",
              "    Summer 2022\n",
              "    <span style=\"font-size: 0.8em; font-weight: bold; line-height: 1; border-radius: 0.35em; text-transform: uppercase; vertical-align: middle; margin-left: 0.5rem\">DATE</span>\n",
              "</mark>\n",
              ") NYC We're looking for \n",
              "<mark class=\"entity\" style=\"background: #bfe1d9; padding: 0.45em 0.6em; margin: 0 0.25em; line-height: 1; border-radius: 0.35em;\">\n",
              "    2022 Summer\n",
              "    <span style=\"font-size: 0.8em; font-weight: bold; line-height: 1; border-radius: 0.35em; text-transform: uppercase; vertical-align: middle; margin-left: 0.5rem\">DATE</span>\n",
              "</mark>\n",
              " Software Engineering Interns who will help us accomplish our mission to improve lives by learning from the experience of every cancer patient. Here's what you need to know about the internship role, our engineering team and why \n",
              "<mark class=\"entity\" style=\"background: #7aecec; padding: 0.45em 0.6em; margin: 0 0.25em; line-height: 1; border-radius: 0.35em;\">\n",
              "    Flatiron Health\n",
              "    <span style=\"font-size: 0.8em; font-weight: bold; line-height: 1; border-radius: 0.35em; text-transform: uppercase; vertical-align: middle; margin-left: 0.5rem\">ORG</span>\n",
              "</mark>\n",
              " is the right next step in building your career.   What You'll Do  Spend \n",
              "<mark class=\"entity\" style=\"background: #bfe1d9; padding: 0.45em 0.6em; margin: 0 0.25em; line-height: 1; border-radius: 0.35em;\">\n",
              "    12 weeks\n",
              "    <span style=\"font-size: 0.8em; font-weight: bold; line-height: 1; border-radius: 0.35em; text-transform: uppercase; vertical-align: middle; margin-left: 0.5rem\">DATE</span>\n",
              "</mark>\n",
              " embedded in a fast-paced scrum team \n",
              "<mark class=\"entity\" style=\"background: #aa9cfc; padding: 0.45em 0.6em; margin: 0 0.25em; line-height: 1; border-radius: 0.35em;\">\n",
              "    Design\n",
              "    <span style=\"font-size: 0.8em; font-weight: bold; line-height: 1; border-radius: 0.35em; text-transform: uppercase; vertical-align: middle; margin-left: 0.5rem\">PERSON</span>\n",
              "</mark>\n",
              ", plan, and build a project under the guidance of an experienced engineering mentor Whiteboard ideas, write code, work with stakeholders, and present your work  Learn more about cancer and the day-to-\n",
              "<mark class=\"entity\" style=\"background: #bfe1d9; padding: 0.45em 0.6em; margin: 0 0.25em; line-height: 1; border-radius: 0.35em;\">\n",
              "    day\n",
              "    <span style=\"font-size: 0.8em; font-weight: bold; line-height: 1; border-radius: 0.35em; text-transform: uppercase; vertical-align: middle; margin-left: 0.5rem\">DATE</span>\n",
              "</mark>\n",
              " intricacies of oncology than you can possibly imagine We have openings for engineering interns across all our different product lines and technology stacks. We welcome engineering students with a genuine passion about software engineering, whether that be in the interest in working with data or building new product features, focusing on the backend or exploring more fullstack roles - We have something for you!   Who You Are You are graduating between \n",
              "<mark class=\"entity\" style=\"background: #bfe1d9; padding: 0.45em 0.6em; margin: 0 0.25em; line-height: 1; border-radius: 0.35em;\">\n",
              "    December 2022\n",
              "    <span style=\"font-size: 0.8em; font-weight: bold; line-height: 1; border-radius: 0.35em; text-transform: uppercase; vertical-align: middle; margin-left: 0.5rem\">DATE</span>\n",
              "</mark>\n",
              " and \n",
              "<mark class=\"entity\" style=\"background: #bfe1d9; padding: 0.45em 0.6em; margin: 0 0.25em; line-height: 1; border-radius: 0.35em;\">\n",
              "    June 2023\n",
              "    <span style=\"font-size: 0.8em; font-weight: bold; line-height: 1; border-radius: 0.35em; text-transform: uppercase; vertical-align: middle; margin-left: 0.5rem\">DATE</span>\n",
              "</mark>\n",
              " with a \n",
              "<mark class=\"entity\" style=\"background: #7aecec; padding: 0.45em 0.6em; margin: 0 0.25em; line-height: 1; border-radius: 0.35em;\">\n",
              "    BS\n",
              "    <span style=\"font-size: 0.8em; font-weight: bold; line-height: 1; border-radius: 0.35em; text-transform: uppercase; vertical-align: middle; margin-left: 0.5rem\">ORG</span>\n",
              "</mark>\n",
              " or MS in computer science or a related field. You're excited by the prospect of rolling up your sleeves to tackle meaningful problems each and \n",
              "<mark class=\"entity\" style=\"background: #bfe1d9; padding: 0.45em 0.6em; margin: 0 0.25em; line-height: 1; border-radius: 0.35em;\">\n",
              "    every day\n",
              "    <span style=\"font-size: 0.8em; font-weight: bold; line-height: 1; border-radius: 0.35em; text-transform: uppercase; vertical-align: middle; margin-left: 0.5rem\">DATE</span>\n",
              "</mark>\n",
              ". You’re a kind, passionate and collaborative problem-solver who seeks and gives candid feedback, and values the chance to make an important impact.   You write clean, well-structured code You have experience working in a fast-paced company You are enthusiastic about working on a multi-disciplinary team You are passionate about our mission to improve healthcare through technology  If this sounds like you, you'll fit right in at Flatiron. </div></span>"
            ],
            "text/plain": [
              "<IPython.core.display.HTML object>"
            ]
          },
          "metadata": {},
          "output_type": "display_data"
        }
      ],
      "source": [
        "ner_text = job_text\n",
        "ner_doc = nlp(ner_text)\n",
        "displacy.render(docs=ner_doc, style='ent', jupyter=True)"
      ]
    },
    {
      "cell_type": "code",
      "execution_count": null,
      "metadata": {
        "colab": {
          "base_uri": "https://localhost:8080/",
          "height": 1000
        },
        "id": "wsqNCmMl1QfE",
        "outputId": "eef9ed6e-b2e7-4d21-8a72-ac23a4ecd5ab"
      },
      "outputs": [
        {
          "data": {
            "text/html": [
              "<span class=\"tex2jax_ignore\"><div class=\"entities\" style=\"line-height: 2.5; direction: ltr\">ARCHANA KALBURGI </br>archanakalburgi@gmail.com   https://archanakalburgi.github.io </br>EDUCATION </br>\n",
              "<mark class=\"entity\" style=\"background: #7aecec; padding: 0.45em 0.6em; margin: 0 0.25em; line-height: 1; border-radius: 0.35em;\">\n",
              "    Stevens Institute of Technology GPA\n",
              "    <span style=\"font-size: 0.8em; font-weight: bold; line-height: 1; border-radius: 0.35em; text-transform: uppercase; vertical-align: middle; margin-left: 0.5rem\">ORG</span>\n",
              "</mark>\n",
              ": \n",
              "<mark class=\"entity\" style=\"background: #e4e7d2; padding: 0.45em 0.6em; margin: 0 0.25em; line-height: 1; border-radius: 0.35em;\">\n",
              "    4.0\n",
              "    <span style=\"font-size: 0.8em; font-weight: bold; line-height: 1; border-radius: 0.35em; text-transform: uppercase; vertical-align: middle; margin-left: 0.5rem\">CARDINAL</span>\n",
              "</mark>\n",
              " Masters of Science, Machine Learning Jan 2021 - (Expected) Dec, \n",
              "<mark class=\"entity\" style=\"background: #e4e7d2; padding: 0.45em 0.6em; margin: 0 0.25em; line-height: 1; border-radius: 0.35em;\">\n",
              "    2022\n",
              "    <span style=\"font-size: 0.8em; font-weight: bold; line-height: 1; border-radius: 0.35em; text-transform: uppercase; vertical-align: middle; margin-left: 0.5rem\">CARDINAL</span>\n",
              "</mark>\n",
              " </br>\n",
              "<mark class=\"entity\" style=\"background: #7aecec; padding: 0.45em 0.6em; margin: 0 0.25em; line-height: 1; border-radius: 0.35em;\">\n",
              "    Visvesvaraya Technological University\n",
              "    <span style=\"font-size: 0.8em; font-weight: bold; line-height: 1; border-radius: 0.35em; text-transform: uppercase; vertical-align: middle; margin-left: 0.5rem\">ORG</span>\n",
              "</mark>\n",
              " </br>\n",
              "<mark class=\"entity\" style=\"background: #7aecec; padding: 0.45em 0.6em; margin: 0 0.25em; line-height: 1; border-radius: 0.35em;\">\n",
              "    Bachelor of Engineering, Computer\n",
              "    <span style=\"font-size: 0.8em; font-weight: bold; line-height: 1; border-radius: 0.35em; text-transform: uppercase; vertical-align: middle; margin-left: 0.5rem\">ORG</span>\n",
              "</mark>\n",
              " Science 2011 - 2015 </br>COURSES </br>Machine Learning Fundamentals and Applications, Knowledge \n",
              "<mark class=\"entity\" style=\"background: #bfeeb7; padding: 0.45em 0.6em; margin: 0 0.25em; line-height: 1; border-radius: 0.35em;\">\n",
              "    Discovery\n",
              "    <span style=\"font-size: 0.8em; font-weight: bold; line-height: 1; border-radius: 0.35em; text-transform: uppercase; vertical-align: middle; margin-left: 0.5rem\">PRODUCT</span>\n",
              "</mark>\n",
              " and \n",
              "<mark class=\"entity\" style=\"background: #aa9cfc; padding: 0.45em 0.6em; margin: 0 0.25em; line-height: 1; border-radius: 0.35em;\">\n",
              "    Data Mining\n",
              "    <span style=\"font-size: 0.8em; font-weight: bold; line-height: 1; border-radius: 0.35em; text-transform: uppercase; vertical-align: middle; margin-left: 0.5rem\">PERSON</span>\n",
              "</mark>\n",
              ", \n",
              "<mark class=\"entity\" style=\"background: #aa9cfc; padding: 0.45em 0.6em; margin: 0 0.25em; line-height: 1; border-radius: 0.35em;\">\n",
              "    Deep Learning\n",
              "    <span style=\"font-size: 0.8em; font-weight: bold; line-height: 1; border-radius: 0.35em; text-transform: uppercase; vertical-align: middle; margin-left: 0.5rem\">PERSON</span>\n",
              "</mark>\n",
              ", Web Mining </br>EXPERIENCE </br>IOP Technologies Aug \n",
              "<mark class=\"entity\" style=\"background: #bfe1d9; padding: 0.45em 0.6em; margin: 0 0.25em; line-height: 1; border-radius: 0.35em;\">\n",
              "    2018 - March\n",
              "    <span style=\"font-size: 0.8em; font-weight: bold; line-height: 1; border-radius: 0.35em; text-transform: uppercase; vertical-align: middle; margin-left: 0.5rem\">DATE</span>\n",
              "</mark>\n",
              ", \n",
              "<mark class=\"entity\" style=\"background: #e4e7d2; padding: 0.45em 0.6em; margin: 0 0.25em; line-height: 1; border-radius: 0.35em;\">\n",
              "    2020\n",
              "    <span style=\"font-size: 0.8em; font-weight: bold; line-height: 1; border-radius: 0.35em; text-transform: uppercase; vertical-align: middle; margin-left: 0.5rem\">CARDINAL</span>\n",
              "</mark>\n",
              " \n",
              "<mark class=\"entity\" style=\"background: #aa9cfc; padding: 0.45em 0.6em; margin: 0 0.25em; line-height: 1; border-radius: 0.35em;\">\n",
              "    Data Engineer Bangalore\n",
              "    <span style=\"font-size: 0.8em; font-weight: bold; line-height: 1; border-radius: 0.35em; text-transform: uppercase; vertical-align: middle; margin-left: 0.5rem\">PERSON</span>\n",
              "</mark>\n",
              ", \n",
              "<mark class=\"entity\" style=\"background: #aa9cfc; padding: 0.45em 0.6em; margin: 0 0.25em; line-height: 1; border-radius: 0.35em;\">\n",
              "    Karnataka\n",
              "    <span style=\"font-size: 0.8em; font-weight: bold; line-height: 1; border-radius: 0.35em; text-transform: uppercase; vertical-align: middle; margin-left: 0.5rem\">PERSON</span>\n",
              "</mark>\n",
              " </br>· Designed and developed data ingestion pipeline (ETL) from \n",
              "<mark class=\"entity\" style=\"background: #e4e7d2; padding: 0.45em 0.6em; margin: 0 0.25em; line-height: 1; border-radius: 0.35em;\">\n",
              "    4\n",
              "    <span style=\"font-size: 0.8em; font-weight: bold; line-height: 1; border-radius: 0.35em; text-transform: uppercase; vertical-align: middle; margin-left: 0.5rem\">CARDINAL</span>\n",
              "</mark>\n",
              " different structured data sources · Implemented web scraping modules using \n",
              "<mark class=\"entity\" style=\"background: #7aecec; padding: 0.45em 0.6em; margin: 0 0.25em; line-height: 1; border-radius: 0.35em;\">\n",
              "    Beautiful Soup\n",
              "    <span style=\"font-size: 0.8em; font-weight: bold; line-height: 1; border-radius: 0.35em; text-transform: uppercase; vertical-align: middle; margin-left: 0.5rem\">ORG</span>\n",
              "</mark>\n",
              " </br>· Helped develop ML module for predicting prices to help make buy/sell decision for electricity units in the \n",
              "<mark class=\"entity\" style=\"background: #c887fb; padding: 0.45em 0.6em; margin: 0 0.25em; line-height: 1; border-radius: 0.35em;\">\n",
              "    Australian\n",
              "    <span style=\"font-size: 0.8em; font-weight: bold; line-height: 1; border-radius: 0.35em; text-transform: uppercase; vertical-align: middle; margin-left: 0.5rem\">NORP</span>\n",
              "</mark>\n",
              " market using \n",
              "<mark class=\"entity\" style=\"background: #7aecec; padding: 0.45em 0.6em; margin: 0 0.25em; line-height: 1; border-radius: 0.35em;\">\n",
              "    Facebook’s Prophet (Python\n",
              "    <span style=\"font-size: 0.8em; font-weight: bold; line-height: 1; border-radius: 0.35em; text-transform: uppercase; vertical-align: middle; margin-left: 0.5rem\">ORG</span>\n",
              "</mark>\n",
              ") </br>\n",
              "<mark class=\"entity\" style=\"background: #7aecec; padding: 0.45em 0.6em; margin: 0 0.25em; line-height: 1; border-radius: 0.35em;\">\n",
              "    PROJECTS\n",
              "    <span style=\"font-size: 0.8em; font-weight: bold; line-height: 1; border-radius: 0.35em; text-transform: uppercase; vertical-align: middle; margin-left: 0.5rem\">ORG</span>\n",
              "</mark>\n",
              " </br>Job Change Prediction (\n",
              "<mark class=\"entity\" style=\"background: #7aecec; padding: 0.45em 0.6em; margin: 0 0.25em; line-height: 1; border-radius: 0.35em;\">\n",
              "    Python\n",
              "    <span style=\"font-size: 0.8em; font-weight: bold; line-height: 1; border-radius: 0.35em; text-transform: uppercase; vertical-align: middle; margin-left: 0.5rem\">ORG</span>\n",
              "</mark>\n",
              ") </br>· Implemented machine learning (ML) algorithms over \n",
              "<mark class=\"entity\" style=\"background: #aa9cfc; padding: 0.45em 0.6em; margin: 0 0.25em; line-height: 1; border-radius: 0.35em;\">\n",
              "    Kaggle\n",
              "    <span style=\"font-size: 0.8em; font-weight: bold; line-height: 1; border-radius: 0.35em; text-transform: uppercase; vertical-align: middle; margin-left: 0.5rem\">PERSON</span>\n",
              "</mark>\n",
              " HR Analytic data set to predict if an employee would quit or stay in the company and analyzed the performance of the algorithms · Performed Exploratory Data Analysis (\n",
              "<mark class=\"entity\" style=\"background: #7aecec; padding: 0.45em 0.6em; margin: 0 0.25em; line-height: 1; border-radius: 0.35em;\">\n",
              "    EDA\n",
              "    <span style=\"font-size: 0.8em; font-weight: bold; line-height: 1; border-radius: 0.35em; text-transform: uppercase; vertical-align: middle; margin-left: 0.5rem\">ORG</span>\n",
              "</mark>\n",
              ") to obtain insights from the data </br>· Derived the correlation between the predictor variables and the target variable, which in turn helped to obtain the most contributing features in decision-making </br>· Spearheaded a team of \n",
              "<mark class=\"entity\" style=\"background: #e4e7d2; padding: 0.45em 0.6em; margin: 0 0.25em; line-height: 1; border-radius: 0.35em;\">\n",
              "    four\n",
              "    <span style=\"font-size: 0.8em; font-weight: bold; line-height: 1; border-radius: 0.35em; text-transform: uppercase; vertical-align: middle; margin-left: 0.5rem\">CARDINAL</span>\n",
              "</mark>\n",
              " in organizing and delivery of the project </br>Sentiment Analysis for IMDB Movie Reviews (Python) </br>· Implemented a classification system to classify the IMDB movie reviews into positive and negative sentiments over the \n",
              "<mark class=\"entity\" style=\"background: #7aecec; padding: 0.45em 0.6em; margin: 0 0.25em; line-height: 1; border-radius: 0.35em;\">\n",
              "    Kaggle\n",
              "    <span style=\"font-size: 0.8em; font-weight: bold; line-height: 1; border-radius: 0.35em; text-transform: uppercase; vertical-align: middle; margin-left: 0.5rem\">ORG</span>\n",
              "</mark>\n",
              " IMDB data set </br>· Extracted feature-set from the reviews using natural language processing (\n",
              "<mark class=\"entity\" style=\"background: #7aecec; padding: 0.45em 0.6em; margin: 0 0.25em; line-height: 1; border-radius: 0.35em;\">\n",
              "    NLP\n",
              "    <span style=\"font-size: 0.8em; font-weight: bold; line-height: 1; border-radius: 0.35em; text-transform: uppercase; vertical-align: middle; margin-left: 0.5rem\">ORG</span>\n",
              "</mark>\n",
              ") techniques and reduced the higher dimension data to a lower dimension using principal component analysis (\n",
              "<mark class=\"entity\" style=\"background: #7aecec; padding: 0.45em 0.6em; margin: 0 0.25em; line-height: 1; border-radius: 0.35em;\">\n",
              "    PCA\n",
              "    <span style=\"font-size: 0.8em; font-weight: bold; line-height: 1; border-radius: 0.35em; text-transform: uppercase; vertical-align: middle; margin-left: 0.5rem\">ORG</span>\n",
              "</mark>\n",
              ") · Applied classification algorithms and tabulated the results before and after the feature extraction, which helped in fine-tuning the performance of the algorithms </br>TECHNICAL STRENGTHS </br>Languages \n",
              "<mark class=\"entity\" style=\"background: #7aecec; padding: 0.45em 0.6em; margin: 0 0.25em; line-height: 1; border-radius: 0.35em;\">\n",
              "    Python\n",
              "    <span style=\"font-size: 0.8em; font-weight: bold; line-height: 1; border-radius: 0.35em; text-transform: uppercase; vertical-align: middle; margin-left: 0.5rem\">ORG</span>\n",
              "</mark>\n",
              ", \n",
              "<mark class=\"entity\" style=\"background: #aa9cfc; padding: 0.45em 0.6em; margin: 0 0.25em; line-height: 1; border-radius: 0.35em;\">\n",
              "    Java\n",
              "    <span style=\"font-size: 0.8em; font-weight: bold; line-height: 1; border-radius: 0.35em; text-transform: uppercase; vertical-align: middle; margin-left: 0.5rem\">PERSON</span>\n",
              "</mark>\n",
              ", R, Object Oriented Programming (\n",
              "<mark class=\"entity\" style=\"background: #7aecec; padding: 0.45em 0.6em; margin: 0 0.25em; line-height: 1; border-radius: 0.35em;\">\n",
              "    OOP\n",
              "    <span style=\"font-size: 0.8em; font-weight: bold; line-height: 1; border-radius: 0.35em; text-transform: uppercase; vertical-align: middle; margin-left: 0.5rem\">ORG</span>\n",
              "</mark>\n",
              ") </br>Database PostgreSQL, SQLite </br>Machine Learning k nearest neighbor(KNN), naive bayes, logistic regression, linear regression, support vector machine(SVM), random forest(RF), </br>decision trees </br>Tools/Framework Avro, Numpy, Pandas, tensorflow, scikit-learn, matplotlib, seaborn, \n",
              "<mark class=\"entity\" style=\"background: #7aecec; padding: 0.45em 0.6em; margin: 0 0.25em; line-height: 1; border-radius: 0.35em;\">\n",
              "    NLP\n",
              "    <span style=\"font-size: 0.8em; font-weight: bold; line-height: 1; border-radius: 0.35em; text-transform: uppercase; vertical-align: middle; margin-left: 0.5rem\">ORG</span>\n",
              "</mark>\n",
              ", \n",
              "<mark class=\"entity\" style=\"background: #7aecec; padding: 0.45em 0.6em; margin: 0 0.25em; line-height: 1; border-radius: 0.35em;\">\n",
              "    NLTK\n",
              "    <span style=\"font-size: 0.8em; font-weight: bold; line-height: 1; border-radius: 0.35em; text-transform: uppercase; vertical-align: middle; margin-left: 0.5rem\">ORG</span>\n",
              "</mark>\n",
              ", \n",
              "<mark class=\"entity\" style=\"background: #feca74; padding: 0.45em 0.6em; margin: 0 0.25em; line-height: 1; border-radius: 0.35em;\">\n",
              "    GIT\n",
              "    <span style=\"font-size: 0.8em; font-weight: bold; line-height: 1; border-radius: 0.35em; text-transform: uppercase; vertical-align: middle; margin-left: 0.5rem\">GPE</span>\n",
              "</mark>\n",
              ", Flask, \n",
              "<mark class=\"entity\" style=\"background: #aa9cfc; padding: 0.45em 0.6em; margin: 0 0.25em; line-height: 1; border-radius: 0.35em;\">\n",
              "    Jupyter Notebook\n",
              "    <span style=\"font-size: 0.8em; font-weight: bold; line-height: 1; border-radius: 0.35em; text-transform: uppercase; vertical-align: middle; margin-left: 0.5rem\">PERSON</span>\n",
              "</mark>\n",
              ", \n",
              "<mark class=\"entity\" style=\"background: #7aecec; padding: 0.45em 0.6em; margin: 0 0.25em; line-height: 1; border-radius: 0.35em;\">\n",
              "    Microsoft\n",
              "    <span style=\"font-size: 0.8em; font-weight: bold; line-height: 1; border-radius: 0.35em; text-transform: uppercase; vertical-align: middle; margin-left: 0.5rem\">ORG</span>\n",
              "</mark>\n",
              " \n",
              "<mark class=\"entity\" style=\"background: #bfeeb7; padding: 0.45em 0.6em; margin: 0 0.25em; line-height: 1; border-radius: 0.35em;\">\n",
              "    Excel\n",
              "    <span style=\"font-size: 0.8em; font-weight: bold; line-height: 1; border-radius: 0.35em; text-transform: uppercase; vertical-align: middle; margin-left: 0.5rem\">PRODUCT</span>\n",
              "</mark>\n",
              ", \n",
              "<mark class=\"entity\" style=\"background: #bfeeb7; padding: 0.45em 0.6em; margin: 0 0.25em; line-height: 1; border-radius: 0.35em;\">\n",
              "    Google Colaboratory\n",
              "    <span style=\"font-size: 0.8em; font-weight: bold; line-height: 1; border-radius: 0.35em; text-transform: uppercase; vertical-align: middle; margin-left: 0.5rem\">PRODUCT</span>\n",
              "</mark>\n",
              "</div></span>"
            ],
            "text/plain": [
              "<IPython.core.display.HTML object>"
            ]
          },
          "metadata": {},
          "output_type": "display_data"
        }
      ],
      "source": [
        "#ner_text = resume_text.replace(\"\\n\",\" \")\n",
        "ner_doc = nlp(parsed_resume)\n",
        "displacy.render(docs=ner_doc, style='ent', jupyter=True)"
      ]
    },
    {
      "cell_type": "markdown",
      "metadata": {
        "id": "ZwD6kabbNksi"
      },
      "source": [
        "## Exploratory Data Analysis \n",
        "\n",
        "The input data collected for Jobs are:\n",
        "* Title\n",
        "* Company\n",
        "* Location\n",
        "* Date\n",
        "* Description\n",
        "* Job Link\n",
        "* Seniority_level\n",
        "* job_function\n",
        "* place\n",
        "\n",
        "\n",
        "The input data collected for resumes are:\n",
        "\n",
        "\n",
        "*   Educational data (e.g. school courses, grades, university, type of degree, intermediate and final university examinations, postgraduate studies)\n",
        "* Job experience (e.g. name of the company, type of employment, industry group, occupational field)\n",
        "* Technical Skills ...TODO\n",
        "\n",
        "\n",
        "> From Lecture: NLP I\n",
        ">> EDA Analysis\n",
        "\n",
        ">>Missing Value Handling"
      ]
    },
    {
      "cell_type": "code",
      "execution_count": null,
      "metadata": {
        "colab": {
          "base_uri": "https://localhost:8080/",
          "height": 504
        },
        "id": "I43h_Z-ilzvm",
        "outputId": "4f1361fb-c5b2-43b8-f1f4-c9a9e78aaedf"
      },
      "outputs": [
        {
          "data": {
            "text/html": [
              "<div>\n",
              "<style scoped>\n",
              "    .dataframe tbody tr th:only-of-type {\n",
              "        vertical-align: middle;\n",
              "    }\n",
              "\n",
              "    .dataframe tbody tr th {\n",
              "        vertical-align: top;\n",
              "    }\n",
              "\n",
              "    .dataframe thead th {\n",
              "        text-align: right;\n",
              "    }\n",
              "</style>\n",
              "<table border=\"1\" class=\"dataframe\">\n",
              "  <thead>\n",
              "    <tr style=\"text-align: right;\">\n",
              "      <th></th>\n",
              "      <th>title</th>\n",
              "      <th>company</th>\n",
              "      <th>location</th>\n",
              "      <th>date</th>\n",
              "      <th>link</th>\n",
              "      <th>apply_link</th>\n",
              "      <th>description</th>\n",
              "      <th>seniority_level</th>\n",
              "      <th>job_function</th>\n",
              "      <th>place</th>\n",
              "    </tr>\n",
              "  </thead>\n",
              "  <tbody>\n",
              "    <tr>\n",
              "      <th>0</th>\n",
              "      <td>Process Manufacturing Engineer (Entry Level)</td>\n",
              "      <td>Engineering and Information Technology</td>\n",
              "      <td>United States</td>\n",
              "      <td>2021-10-21</td>\n",
              "      <td>https://www.linkedin.com/jobs/view/process-man...</td>\n",
              "      <td>https://www.linkedin.com/jobs/view/externalApp...</td>\n",
              "      <td>What Makes Honda The Best?\\n\\nAre you an innov...</td>\n",
              "      <td>Not Applicable</td>\n",
              "      <td>NaN</td>\n",
              "      <td>NaN</td>\n",
              "    </tr>\n",
              "    <tr>\n",
              "      <th>1</th>\n",
              "      <td>Entry Level Engineer / Engineering Development...</td>\n",
              "      <td>Engineering and Information Technology</td>\n",
              "      <td>United States</td>\n",
              "      <td>2021-09-25</td>\n",
              "      <td>https://www.linkedin.com/jobs/view/entry-level...</td>\n",
              "      <td>https://www.linkedin.com/jobs/view/externalApp...</td>\n",
              "      <td>What Makes Honda The Best?\\n\\nAre you an innov...</td>\n",
              "      <td>Not Applicable</td>\n",
              "      <td>NaN</td>\n",
              "      <td>NaN</td>\n",
              "    </tr>\n",
              "    <tr>\n",
              "      <th>2</th>\n",
              "      <td>Quality Engineer</td>\n",
              "      <td>Quality Assurance</td>\n",
              "      <td>United States</td>\n",
              "      <td>2021-10-29</td>\n",
              "      <td>https://www.linkedin.com/jobs/view/quality-eng...</td>\n",
              "      <td>https://www.linkedin.com/jobs/view/externalApp...</td>\n",
              "      <td>What Makes Honda The Best?\\n\\nAre you an innov...</td>\n",
              "      <td>Not Applicable</td>\n",
              "      <td>NaN</td>\n",
              "      <td>NaN</td>\n",
              "    </tr>\n",
              "    <tr>\n",
              "      <th>3</th>\n",
              "      <td>Process Manufacturing Engineer (Entry Level)</td>\n",
              "      <td>Engineering and Information Technology</td>\n",
              "      <td>United States</td>\n",
              "      <td>2021-09-25</td>\n",
              "      <td>https://www.linkedin.com/jobs/view/process-man...</td>\n",
              "      <td>https://www.linkedin.com/jobs/view/externalApp...</td>\n",
              "      <td>What Makes Honda The Best?\\n\\nAre you an innov...</td>\n",
              "      <td>Not Applicable</td>\n",
              "      <td>NaN</td>\n",
              "      <td>NaN</td>\n",
              "    </tr>\n",
              "    <tr>\n",
              "      <th>4</th>\n",
              "      <td>Entry Level Global Product Development - Hardw...</td>\n",
              "      <td>Engineering and Information Technology</td>\n",
              "      <td>United States</td>\n",
              "      <td>2021-09-04</td>\n",
              "      <td>https://www.linkedin.com/jobs/view/entry-level...</td>\n",
              "      <td>https://www.linkedin.com/jobs/view/externalApp...</td>\n",
              "      <td>About GM\\n\\nThere's never been a more exciting...</td>\n",
              "      <td>Not Applicable</td>\n",
              "      <td>NaN</td>\n",
              "      <td>NaN</td>\n",
              "    </tr>\n",
              "  </tbody>\n",
              "</table>\n",
              "</div>"
            ],
            "text/plain": [
              "                                               title  ... place\n",
              "0       Process Manufacturing Engineer (Entry Level)  ...   NaN\n",
              "1  Entry Level Engineer / Engineering Development...  ...   NaN\n",
              "2                                   Quality Engineer  ...   NaN\n",
              "3       Process Manufacturing Engineer (Entry Level)  ...   NaN\n",
              "4  Entry Level Global Product Development - Hardw...  ...   NaN\n",
              "\n",
              "[5 rows x 10 columns]"
            ]
          },
          "execution_count": 34,
          "metadata": {},
          "output_type": "execute_result"
        }
      ],
      "source": [
        "df.head()"
      ]
    },
    {
      "cell_type": "markdown",
      "metadata": {
        "id": "oG7vXetXjD0B"
      },
      "source": [
        "## Preprocessing Data Analysis of Effective Methods \n",
        "\n",
        "> From Lecture: NLP I & II\n",
        ">> Stop Words and Filtering\n",
        "\n",
        ">> Punctuation Removal\n",
        "\n",
        ">> Using Lemmatizer"
      ]
    },
    {
      "cell_type": "code",
      "execution_count": null,
      "metadata": {
        "colab": {
          "base_uri": "https://localhost:8080/"
        },
        "id": "UN15Sd8pvbX2",
        "outputId": "6b83b8f4-7cfd-46ea-bbe7-fe837b22ee5c"
      },
      "outputs": [
        {
          "name": "stderr",
          "output_type": "stream",
          "text": [
            "/usr/local/lib/python3.7/dist-packages/ipykernel_launcher.py:8: SettingWithCopyWarning: \n",
            "A value is trying to be set on a copy of a slice from a DataFrame.\n",
            "Try using .loc[row_indexer,col_indexer] = value instead\n",
            "\n",
            "See the caveats in the documentation: https://pandas.pydata.org/pandas-docs/stable/user_guide/indexing.html#returning-a-view-versus-a-copy\n",
            "  \n",
            "/usr/local/lib/python3.7/dist-packages/ipykernel_launcher.py:9: SettingWithCopyWarning: \n",
            "A value is trying to be set on a copy of a slice from a DataFrame.\n",
            "Try using .loc[row_indexer,col_indexer] = value instead\n",
            "\n",
            "See the caveats in the documentation: https://pandas.pydata.org/pandas-docs/stable/user_guide/indexing.html#returning-a-view-versus-a-copy\n",
            "  if __name__ == '__main__':\n"
          ]
        }
      ],
      "source": [
        "def remove_punctuation(text):\n",
        "    text=\" \".join(text.splitlines())\n",
        "    punctuationfree=\"\".join([i for i in text if i not in string.punctuation])\n",
        "    return punctuationfree\n",
        "\n",
        "data = df[['description']]\n",
        "#storing the puntuation free text\n",
        "data['clean_msg']= data['description'].apply(lambda x:remove_punctuation(x))\n",
        "data['msg_lower']= data['clean_msg'].apply(lambda x: x.lower())"
      ]
    },
    {
      "cell_type": "code",
      "execution_count": null,
      "metadata": {
        "colab": {
          "base_uri": "https://localhost:8080/"
        },
        "id": "Z_H289HVvbX3",
        "outputId": "6177c157-b593-4ab8-f8b6-ad0cf4ae7b41"
      },
      "outputs": [
        {
          "name": "stderr",
          "output_type": "stream",
          "text": [
            "/usr/local/lib/python3.7/dist-packages/ipykernel_launcher.py:6: SettingWithCopyWarning: \n",
            "A value is trying to be set on a copy of a slice from a DataFrame.\n",
            "Try using .loc[row_indexer,col_indexer] = value instead\n",
            "\n",
            "See the caveats in the documentation: https://pandas.pydata.org/pandas-docs/stable/user_guide/indexing.html#returning-a-view-versus-a-copy\n",
            "  \n"
          ]
        }
      ],
      "source": [
        "import re\n",
        "def tokenization(text):\n",
        "    tokens = re.split('W+',text)\n",
        "    return tokens\n",
        "#applying function to the column\n",
        "data['msg_tokenied']= data['msg_lower'].apply(lambda x: tokenization(x))"
      ]
    },
    {
      "cell_type": "code",
      "execution_count": null,
      "metadata": {
        "colab": {
          "base_uri": "https://localhost:8080/"
        },
        "id": "qOMoYU7YvbX4",
        "outputId": "6f4d5d65-5d01-4a0c-93a5-e30d88d3615f"
      },
      "outputs": [
        {
          "name": "stdout",
          "output_type": "stream",
          "text": [
            "[nltk_data] Downloading package stopwords to /root/nltk_data...\n",
            "[nltk_data]   Package stopwords is already up-to-date!\n"
          ]
        },
        {
          "name": "stderr",
          "output_type": "stream",
          "text": [
            "/usr/local/lib/python3.7/dist-packages/ipykernel_launcher.py:10: SettingWithCopyWarning: \n",
            "A value is trying to be set on a copy of a slice from a DataFrame.\n",
            "Try using .loc[row_indexer,col_indexer] = value instead\n",
            "\n",
            "See the caveats in the documentation: https://pandas.pydata.org/pandas-docs/stable/user_guide/indexing.html#returning-a-view-versus-a-copy\n",
            "  # Remove the CWD from sys.path while we load stuff.\n"
          ]
        }
      ],
      "source": [
        "#importing nlp library\n",
        "import nltk\n",
        "nltk.download('stopwords')\n",
        "#Stop words present in the library\n",
        "stopwords = nltk.corpus.stopwords.words('english')\n",
        "def remove_stopwords(text):\n",
        "    output= [i for i in text if i not in stopwords]\n",
        "    return output\n",
        "\n",
        "data['no_stopwords']= data['msg_tokenied'].apply(lambda x:remove_stopwords(x))"
      ]
    },
    {
      "cell_type": "code",
      "execution_count": null,
      "metadata": {
        "colab": {
          "base_uri": "https://localhost:8080/"
        },
        "id": "ahEsYq--vbX4",
        "outputId": "b674075b-72dd-40ac-9977-432e53a642f5"
      },
      "outputs": [
        {
          "name": "stdout",
          "output_type": "stream",
          "text": [
            "[nltk_data] Downloading package wordnet to /root/nltk_data...\n",
            "[nltk_data]   Package wordnet is already up-to-date!\n",
            "0       [what makes honda the best  are you an innovat...\n",
            "1       [what makes honda the best  are you an innovat...\n",
            "2       [what makes honda the best  are you an innovat...\n",
            "3       [what makes honda the best  are you an innovat...\n",
            "4       [about gm  theres never been a more exciting t...\n",
            "                              ...                        \n",
            "2864    [who we are  addepar‚äôs mission is to bring d...\n",
            "2865    [we‚äôre looking for problem solvers innovator...\n",
            "2866    [requisition id 123599  job level internship  ...\n",
            "2867    [requisition id 123639  job level internship  ...\n",
            "2868    [join us as we pursue our vision to make machi...\n",
            "Name: no_stopwords, Length: 2869, dtype: object\n"
          ]
        }
      ],
      "source": [
        "from nltk.stem import WordNetLemmatizer\n",
        "nltk.download('wordnet')\n",
        "#defining the object for Lemmatization\n",
        "wordnet_lemmatizer = WordNetLemmatizer()\n",
        "def lemmatizer(text):\n",
        "    lemm_text = [wordnet_lemmatizer.lemmatize(word) for word in text]\n",
        "    return lemm_text\n",
        "result =data['no_stopwords'].apply(lambda x:lemmatizer(x))\n",
        "print(result)"
      ]
    },
    {
      "cell_type": "code",
      "execution_count": null,
      "metadata": {
        "colab": {
          "base_uri": "https://localhost:8080/",
          "height": 771
        },
        "id": "wSXyiPuYkiLY",
        "outputId": "1f90b622-c1fb-4259-82b2-972b856c1338"
      },
      "outputs": [
        {
          "data": {
            "text/html": [
              "<div>\n",
              "<style scoped>\n",
              "    .dataframe tbody tr th:only-of-type {\n",
              "        vertical-align: middle;\n",
              "    }\n",
              "\n",
              "    .dataframe tbody tr th {\n",
              "        vertical-align: top;\n",
              "    }\n",
              "\n",
              "    .dataframe thead th {\n",
              "        text-align: right;\n",
              "    }\n",
              "</style>\n",
              "<table border=\"1\" class=\"dataframe\">\n",
              "  <thead>\n",
              "    <tr style=\"text-align: right;\">\n",
              "      <th></th>\n",
              "      <th>description</th>\n",
              "      <th>clean_msg</th>\n",
              "      <th>msg_lower</th>\n",
              "      <th>msg_tokenied</th>\n",
              "      <th>no_stopwords</th>\n",
              "    </tr>\n",
              "  </thead>\n",
              "  <tbody>\n",
              "    <tr>\n",
              "      <th>0</th>\n",
              "      <td>What Makes Honda The Best?\\n\\nAre you an innov...</td>\n",
              "      <td>What Makes Honda The Best  Are you an innovato...</td>\n",
              "      <td>what makes honda the best  are you an innovato...</td>\n",
              "      <td>[what makes honda the best  are you an innovat...</td>\n",
              "      <td>[what makes honda the best  are you an innovat...</td>\n",
              "    </tr>\n",
              "    <tr>\n",
              "      <th>1</th>\n",
              "      <td>What Makes Honda The Best?\\n\\nAre you an innov...</td>\n",
              "      <td>What Makes Honda The Best  Are you an innovato...</td>\n",
              "      <td>what makes honda the best  are you an innovato...</td>\n",
              "      <td>[what makes honda the best  are you an innovat...</td>\n",
              "      <td>[what makes honda the best  are you an innovat...</td>\n",
              "    </tr>\n",
              "    <tr>\n",
              "      <th>2</th>\n",
              "      <td>What Makes Honda The Best?\\n\\nAre you an innov...</td>\n",
              "      <td>What Makes Honda The Best  Are you an innovato...</td>\n",
              "      <td>what makes honda the best  are you an innovato...</td>\n",
              "      <td>[what makes honda the best  are you an innovat...</td>\n",
              "      <td>[what makes honda the best  are you an innovat...</td>\n",
              "    </tr>\n",
              "    <tr>\n",
              "      <th>3</th>\n",
              "      <td>What Makes Honda The Best?\\n\\nAre you an innov...</td>\n",
              "      <td>What Makes Honda The Best  Are you an innovato...</td>\n",
              "      <td>what makes honda the best  are you an innovato...</td>\n",
              "      <td>[what makes honda the best  are you an innovat...</td>\n",
              "      <td>[what makes honda the best  are you an innovat...</td>\n",
              "    </tr>\n",
              "    <tr>\n",
              "      <th>4</th>\n",
              "      <td>About GM\\n\\nThere's never been a more exciting...</td>\n",
              "      <td>About GM  Theres never been a more exciting ti...</td>\n",
              "      <td>about gm  theres never been a more exciting ti...</td>\n",
              "      <td>[about gm  theres never been a more exciting t...</td>\n",
              "      <td>[about gm  theres never been a more exciting t...</td>\n",
              "    </tr>\n",
              "    <tr>\n",
              "      <th>...</th>\n",
              "      <td>...</td>\n",
              "      <td>...</td>\n",
              "      <td>...</td>\n",
              "      <td>...</td>\n",
              "      <td>...</td>\n",
              "    </tr>\n",
              "    <tr>\n",
              "      <th>2864</th>\n",
              "      <td>Who We Are\\n\\nAddepar‚Äôs mission is to bring ...</td>\n",
              "      <td>Who We Are  Addepar‚Äôs mission is to bring da...</td>\n",
              "      <td>who we are  addepar‚äôs mission is to bring da...</td>\n",
              "      <td>[who we are  addepar‚äôs mission is to bring d...</td>\n",
              "      <td>[who we are  addepar‚äôs mission is to bring d...</td>\n",
              "    </tr>\n",
              "    <tr>\n",
              "      <th>2865</th>\n",
              "      <td>We‚Äôre looking for problem solvers, innovator...</td>\n",
              "      <td>We‚Äôre looking for problem solvers innovators...</td>\n",
              "      <td>we‚äôre looking for problem solvers innovators...</td>\n",
              "      <td>[we‚äôre looking for problem solvers innovator...</td>\n",
              "      <td>[we‚äôre looking for problem solvers innovator...</td>\n",
              "    </tr>\n",
              "    <tr>\n",
              "      <th>2866</th>\n",
              "      <td>Requisition ID: 123599\\n\\nJob Level: Internshi...</td>\n",
              "      <td>Requisition ID 123599  Job Level Internship  D...</td>\n",
              "      <td>requisition id 123599  job level internship  d...</td>\n",
              "      <td>[requisition id 123599  job level internship  ...</td>\n",
              "      <td>[requisition id 123599  job level internship  ...</td>\n",
              "    </tr>\n",
              "    <tr>\n",
              "      <th>2867</th>\n",
              "      <td>Requisition ID: 123639\\n\\nJob Level: Internshi...</td>\n",
              "      <td>Requisition ID 123639  Job Level Internship  D...</td>\n",
              "      <td>requisition id 123639  job level internship  d...</td>\n",
              "      <td>[requisition id 123639  job level internship  ...</td>\n",
              "      <td>[requisition id 123639  job level internship  ...</td>\n",
              "    </tr>\n",
              "    <tr>\n",
              "      <th>2868</th>\n",
              "      <td>Join us as we pursue our vision to make machin...</td>\n",
              "      <td>Join us as we pursue our vision to make machin...</td>\n",
              "      <td>join us as we pursue our vision to make machin...</td>\n",
              "      <td>[join us as we pursue our vision to make machi...</td>\n",
              "      <td>[join us as we pursue our vision to make machi...</td>\n",
              "    </tr>\n",
              "  </tbody>\n",
              "</table>\n",
              "<p>2869 rows × 5 columns</p>\n",
              "</div>"
            ],
            "text/plain": [
              "                                            description  ...                                       no_stopwords\n",
              "0     What Makes Honda The Best?\\n\\nAre you an innov...  ...  [what makes honda the best  are you an innovat...\n",
              "1     What Makes Honda The Best?\\n\\nAre you an innov...  ...  [what makes honda the best  are you an innovat...\n",
              "2     What Makes Honda The Best?\\n\\nAre you an innov...  ...  [what makes honda the best  are you an innovat...\n",
              "3     What Makes Honda The Best?\\n\\nAre you an innov...  ...  [what makes honda the best  are you an innovat...\n",
              "4     About GM\\n\\nThere's never been a more exciting...  ...  [about gm  theres never been a more exciting t...\n",
              "...                                                 ...  ...                                                ...\n",
              "2864  Who We Are\\n\\nAddepar‚Äôs mission is to bring ...  ...  [who we are  addepar‚äôs mission is to bring d...\n",
              "2865  We‚Äôre looking for problem solvers, innovator...  ...  [we‚äôre looking for problem solvers innovator...\n",
              "2866  Requisition ID: 123599\\n\\nJob Level: Internshi...  ...  [requisition id 123599  job level internship  ...\n",
              "2867  Requisition ID: 123639\\n\\nJob Level: Internshi...  ...  [requisition id 123639  job level internship  ...\n",
              "2868  Join us as we pursue our vision to make machin...  ...  [join us as we pursue our vision to make machi...\n",
              "\n",
              "[2869 rows x 5 columns]"
            ]
          },
          "execution_count": 39,
          "metadata": {},
          "output_type": "execute_result"
        }
      ],
      "source": [
        "data"
      ]
    },
    {
      "cell_type": "markdown",
      "metadata": {
        "id": "yyjjyDKQqAcx"
      },
      "source": [
        "# Feature Engineering for Profile Matcher\n"
      ]
    },
    {
      "cell_type": "code",
      "execution_count": null,
      "metadata": {
        "colab": {
          "base_uri": "https://localhost:8080/"
        },
        "id": "FWk6lMXVnOhO",
        "outputId": "e1c62fdb-a1bd-4314-f3f5-e8dd6c7aa8cd"
      },
      "outputs": [
        {
          "data": {
            "text/plain": [
              "Index(['title', 'company', 'location', 'date', 'link', 'apply_link',\n",
              "       'description', 'seniority_level', 'job_function', 'place'],\n",
              "      dtype='object')"
            ]
          },
          "execution_count": 40,
          "metadata": {},
          "output_type": "execute_result"
        }
      ],
      "source": [
        "df.columns"
      ]
    },
    {
      "cell_type": "code",
      "execution_count": null,
      "metadata": {
        "id": "AcXh-APar8Wj"
      },
      "outputs": [],
      "source": [
        "# df['place'].unique() # maybe in future scope"
      ]
    },
    {
      "cell_type": "code",
      "execution_count": null,
      "metadata": {
        "id": "BzEC3PhSufNK"
      },
      "outputs": [],
      "source": [
        "# # Groupby by country\n",
        "# country = df.groupby(\"place\")\n",
        "# # Summary statistic of all countries\n",
        "# country.describe().head()"
      ]
    },
    {
      "cell_type": "markdown",
      "metadata": {
        "id": "op5Ytjs8FPvf"
      },
      "source": [
        "### Selected Features for Determining Matching"
      ]
    },
    {
      "cell_type": "markdown",
      "metadata": {
        "id": "pFqnA7NBFbFV"
      },
      "source": [
        "#### Title"
      ]
    },
    {
      "cell_type": "code",
      "execution_count": null,
      "metadata": {
        "colab": {
          "base_uri": "https://localhost:8080/"
        },
        "id": "g1cVz1pCoREK",
        "outputId": "df8f2199-414b-4d4a-84e7-f5d0d8e32db4"
      },
      "outputs": [
        {
          "data": {
            "text/plain": [
              "0            Process Manufacturing Engineer (Entry Level)\n",
              "1       Entry Level Engineer / Engineering Development...\n",
              "2                                        Quality Engineer\n",
              "3            Process Manufacturing Engineer (Entry Level)\n",
              "4       Entry Level Global Product Development - Hardw...\n",
              "                              ...                        \n",
              "2864    Software Engineer Intern - Security Master (Su...\n",
              "2865                 DevOps Engineer Intern (Summer 2022)\n",
              "2866    Field/Office Engineer Intern - Heavy Civil - N...\n",
              "2867    Field/Office Engineer Intern - Central Distric...\n",
              "2868      Software Engineer Intern (Remote - Summer 2022)\n",
              "Name: title, Length: 2869, dtype: object"
            ]
          },
          "execution_count": 43,
          "metadata": {},
          "output_type": "execute_result"
        }
      ],
      "source": [
        "df['title']"
      ]
    },
    {
      "cell_type": "markdown",
      "metadata": {
        "id": "dHyA-tJ2Fftt"
      },
      "source": [
        "#### Seniority Level"
      ]
    },
    {
      "cell_type": "code",
      "execution_count": null,
      "metadata": {
        "colab": {
          "base_uri": "https://localhost:8080/"
        },
        "id": "j3NVPaTUrjLp",
        "outputId": "08f4b2cf-22e4-4545-b1c5-2d5d4854fa2c"
      },
      "outputs": [
        {
          "data": {
            "text/plain": [
              "array(['Not Applicable', 'Entry level', 'Internship', nan, 'Associate',\n",
              "       'Mid-Senior level', 'Director'], dtype=object)"
            ]
          },
          "execution_count": 44,
          "metadata": {},
          "output_type": "execute_result"
        }
      ],
      "source": [
        "df['seniority_level'].unique() # filter on this for Interns"
      ]
    },
    {
      "cell_type": "markdown",
      "metadata": {
        "id": "xc7wtkmxFqqd"
      },
      "source": [
        "#### Description"
      ]
    },
    {
      "cell_type": "code",
      "execution_count": null,
      "metadata": {
        "colab": {
          "base_uri": "https://localhost:8080/"
        },
        "id": "RpBiyHizsVOz",
        "outputId": "e0fe27a4-cbe0-47bc-c474-b9eab0f34d6e"
      },
      "outputs": [
        {
          "data": {
            "text/plain": [
              "0       What Makes Honda The Best?\\n\\nAre you an innov...\n",
              "1       What Makes Honda The Best?\\n\\nAre you an innov...\n",
              "2       What Makes Honda The Best?\\n\\nAre you an innov...\n",
              "3       What Makes Honda The Best?\\n\\nAre you an innov...\n",
              "4       About GM\\n\\nThere's never been a more exciting...\n",
              "                              ...                        \n",
              "2864    Who We Are\\n\\nAddepar‚Äôs mission is to bring ...\n",
              "2865    We‚Äôre looking for problem solvers, innovator...\n",
              "2866    Requisition ID: 123599\\n\\nJob Level: Internshi...\n",
              "2867    Requisition ID: 123639\\n\\nJob Level: Internshi...\n",
              "2868    Join us as we pursue our vision to make machin...\n",
              "Name: description, Length: 2869, dtype: object"
            ]
          },
          "execution_count": 45,
          "metadata": {},
          "output_type": "execute_result"
        }
      ],
      "source": [
        "df['description']"
      ]
    },
    {
      "cell_type": "markdown",
      "metadata": {
        "id": "BiatCsktl0Wn"
      },
      "source": [
        "# Training word2vec Model over Job Description Feature\n",
        "\n",
        "- Preprocessing of Training Data\n",
        "- Word2Vec Train - Test - Save\n",
        "- Word2Vec Visualization\n",
        "- Analysis for Improvements"
      ]
    },
    {
      "cell_type": "markdown",
      "metadata": {
        "id": "ZPrSvA9v9CVC"
      },
      "source": [
        "\n",
        "## Pre - Processing\n",
        "\n",
        "* Convert to Lower Case\n",
        "* remove email\n",
        "            doc = re.sub(r'\\S*@\\S*\\s?', '', doc, flags=re.MULTILINE) \n",
        "* remove web addresses\n",
        "            doc = re.sub(r'http\\S+', '', doc, flags=re.MULTILINE) \n",
        "* Remove tokens which are digits\n",
        "\n",
        "      doc = re.sub(r'\\b\\d+\\b', '', doc, flags=re.MULTILINE)\n",
        "* Remove website addresses \"www.\"\n",
        "      doc = re.sub(r'www\\.\\S+', '', doc, flags=re.MULTILINE)\n",
        "* Remove all non-ascii  characters e.g ‚äôs\n",
        "      doc = re.sub(r'[^\\u0000-\\u007F]+', '', doc, flags=re.MULTILINE)\n",
        "* Replace punctuations with space\n",
        "* Tokenize each document into a list of unigrams\n",
        "* only unigrams with 2 or more characters are taken \n",
        "* Stop words removal\n",
        "* Check if the word is made up of english letters and is not alpha-numeric\n",
        "* strip punctuations and leading/trailing spaces from unigrams\n",
        "* WordNetLemmatizer to lemmatize token\n",
        "* Remove alphanumeric tokens like gd17, 11693b3"
      ]
    },
    {
      "cell_type": "code",
      "execution_count": null,
      "metadata": {
        "id": "953sc8SJQPa4"
      },
      "outputs": [],
      "source": [
        "def containsNumber(value):\n",
        "    for character in value:\n",
        "        if character.isdigit():\n",
        "            return True\n",
        "    return False\n",
        "\n",
        "def custom_tokenize(doc):\n",
        "  doc = doc.lower()\n",
        "  doc = re.sub(r'\\S*@\\S*\\s?', '', doc, flags=re.MULTILINE) \n",
        "  doc = re.sub(r'http\\S+', '', doc, flags=re.MULTILINE)\n",
        "  doc = re.sub(r'www\\.\\S+', '', doc, flags=re.MULTILINE)\n",
        "  doc = re.sub(r'[^\\u0000-\\u007F]+', '', doc, flags=re.MULTILINE)\n",
        "  doc = re.sub(r'[^\\w\\s]', ' ', doc, flags=re.MULTILINE) # replace punctuations by space\n",
        "  doc = re.sub(r'\\b\\d+\\b', '', doc, flags=re.MULTILINE)\n",
        "  doc = re.sub(r'[^\\w\\s]', '', doc, flags=re.MULTILINE) \n",
        "\n",
        "  stop_words = set(stopwords.words(\"english\"))\n",
        "  wordnet_lemmatizer = WordNetLemmatizer()\n",
        "\n",
        "  return [wordnet_lemmatizer.lemmatize(token.strip(string.punctuation).strip()) \\\n",
        "             for token in nltk.word_tokenize(doc.lower()) \\\n",
        "                 if token not in string.punctuation and \\\n",
        "                  not containsNumber(token) and \\\n",
        "                  token not in stop_words and \\\n",
        "                 len(wordnet_lemmatizer.lemmatize(token.strip(string.punctuation).strip()))>=2]"
      ]
    },
    {
      "cell_type": "code",
      "execution_count": null,
      "metadata": {
        "id": "q8tIuoikZ80z"
      },
      "outputs": [],
      "source": [
        "# sample = \" \".join(custom_tokenize(df.description[0]))\n",
        "# ner_text = sample\n",
        "# ner_doc = nlp(ner_text)\n",
        "# displacy.render(docs=ner_doc, style='ent', jupyter=True)"
      ]
    },
    {
      "cell_type": "markdown",
      "metadata": {
        "id": "HsNnzAXUoku2"
      },
      "source": [
        "### Popular Words Visualization"
      ]
    },
    {
      "cell_type": "code",
      "execution_count": null,
      "metadata": {
        "colab": {
          "base_uri": "https://localhost:8080/",
          "height": 607
        },
        "id": "LVhpHNB7BFzp",
        "outputId": "233df3f7-1cd5-4ae4-80b3-112d8e2a6a00"
      },
      "outputs": [
        {
          "data": {
            "image/png": "[encoded data removed]",
            "text/plain": [
              "<Figure size 720x720 with 1 Axes>"
            ]
          },
          "metadata": {
            "needs_background": "light"
          },
          "output_type": "display_data"
        }
      ],
      "source": [
        "from nltk.corpus import stopwords\n",
        "def wordBarGraphFunction(df,column,title, preprocessing = False):\n",
        "  if preprocessing:\n",
        "    topic_words = []\n",
        "    for x in df[column]:\n",
        "      topic_words = topic_words + (custom_tokenize(x))\n",
        "  else:\n",
        "      topic_words = [ z.lower() for y in\n",
        "                       [ x.split() for x in df['description'] if isinstance(x, str)]\n",
        "                       for z in y]\n",
        "  word_count_dict = dict(Counter(topic_words))\n",
        "  popular_words = sorted(word_count_dict, key = word_count_dict.get, reverse = True)\n",
        "  popular_words_nonstop = [w for w in popular_words if w not in stopwords.words(\"english\")]\n",
        "\n",
        "  plt.barh(range(50), [word_count_dict[w] for w in reversed(popular_words_nonstop[0:50])])\n",
        "  plt.yticks([x + 0.5 for x in range(50)], reversed(popular_words_nonstop[0:50]))\n",
        "  plt.title(title)\n",
        "  plt.show()\n",
        "\n",
        "plt.figure(figsize=(10,10))\n",
        "wordBarGraphFunction(df,'description',\"Popular Words Before Preprocessing\", preprocessing = False)"
      ]
    },
    {
      "cell_type": "code",
      "execution_count": null,
      "metadata": {
        "colab": {
          "base_uri": "https://localhost:8080/",
          "height": 607
        },
        "id": "c__jeHK3hDTJ",
        "outputId": "f861eea0-399d-4499-9bf7-991a91503874"
      },
      "outputs": [
        {
          "data": {
            "image/png": "[encoded data removed]",
            "text/plain": [
              "<Figure size 720x720 with 1 Axes>"
            ]
          },
          "metadata": {
            "needs_background": "light"
          },
          "output_type": "display_data"
        }
      ],
      "source": [
        "plt.figure(figsize=(10,10))\n",
        "wordBarGraphFunction(df,'description',\"Popular Words After Preprocessing\", preprocessing = True)"
      ]
    },
    {
      "cell_type": "markdown",
      "metadata": {
        "id": "ozBYmieo06gD"
      },
      "source": [
        "## Word2Vec Embeddings\n",
        "\n",
        "> From Lecure: Word2Vec.pynb\n"
      ]
    },
    {
      "cell_type": "markdown",
      "metadata": {
        "id": "SGFz6HXsaIqc"
      },
      "source": [
        "Word2vec captures context, semantic , syntactic similarities.\n",
        "\n",
        "Semantic similarity:\n",
        "- how old are you is semantically similar to -> what is your age\n",
        "\n",
        "Syntactic similarity \n",
        "- similarity between the two texts is proportional to the number of identical words in them "
      ]
    },
    {
      "cell_type": "code",
      "execution_count": null,
      "metadata": {
        "id": "F_S0htHy_NwN"
      },
      "outputs": [],
      "source": [
        "WORD_VEC_DIMENSION = 300"
      ]
    },
    {
      "cell_type": "markdown",
      "metadata": {
        "id": "x2r3if-pp4iU"
      },
      "source": [
        "### Train Word2Vec Model\n",
        "\n",
        "Input: Corpus ( df.description )\n",
        "\n",
        "Training Parameters to optimize on:\n",
        "* PreProcessing Step: custom_tokenize()\n",
        "* min_count: 1\n",
        "* window : 5\n",
        "* size: 300\n"
      ]
    },
    {
      "cell_type": "markdown",
      "metadata": {
        "id": "RvE_ee1MpLYm"
      },
      "source": [
        "Ref: https://datascience.stackexchange.com/questions/52964/word2vec-word-embeddings-creates-very-distant-vectors-closest-cosine-similarity\n",
        "\n",
        "* Suggestions that can help improve the vector quality:\n",
        "\n",
        "  - Using TFIDF, you can remove stop words in case they are not interesting to you.\n",
        "  - Pre-process your text to bring them to standard form. For example, lower casing of text, removal of special characters, stripping of spaces.\n",
        "  - Experiment with varying embedding sizes. Start with as little as 100, as you are interested in only finite number of words.\n",
        "  - Visualize your vectors using tsne / PCA and projecting them to a 2 or 3 dimensional space.\n",
        "  - Perform the same for different epochs to see how vectors are converging / diverging.\n",
        "  - Its also very important to understand your corpus well, so that you know what these vectors imply and how they co-occur."
      ]
    },
    {
      "cell_type": "code",
      "execution_count": null,
      "metadata": {
        "colab": {
          "base_uri": "https://localhost:8080/"
        },
        "id": "OVpEvAbnrZTK",
        "outputId": "5c357cfd-45bc-4089-f1f9-1b6627c9970d"
      },
      "outputs": [
        {
          "data": {
            "text/plain": [
              "0       What Makes Honda The Best?\\n\\nAre you an innov...\n",
              "1       What Makes Honda The Best?\\n\\nAre you an innov...\n",
              "2       What Makes Honda The Best?\\n\\nAre you an innov...\n",
              "3       What Makes Honda The Best?\\n\\nAre you an innov...\n",
              "4       About GM\\n\\nThere's never been a more exciting...\n",
              "                              ...                        \n",
              "2864    Who We Are\\n\\nAddepar‚Äôs mission is to bring ...\n",
              "2865    We‚Äôre looking for problem solvers, innovator...\n",
              "2866    Requisition ID: 123599\\n\\nJob Level: Internshi...\n",
              "2867    Requisition ID: 123639\\n\\nJob Level: Internshi...\n",
              "2868    Join us as we pursue our vision to make machin...\n",
              "Name: description, Length: 2869, dtype: object"
            ]
          },
          "execution_count": 51,
          "metadata": {},
          "output_type": "execute_result"
        }
      ],
      "source": [
        "df.description"
      ]
    },
    {
      "cell_type": "code",
      "execution_count": null,
      "metadata": {
        "colab": {
          "base_uri": "https://localhost:8080/"
        },
        "id": "7R3nonaq2lsO",
        "outputId": "2a2fef3d-7c06-4467-9fc8-e95f453dff08"
      },
      "outputs": [
        {
          "name": "stderr",
          "output_type": "stream",
          "text": [
            "2021-12-05 21:18:08,181 : INFO : collecting all words and their counts\n",
            "2021-12-05 21:18:08,183 : INFO : PROGRESS: at sentence #0, processed 0 words, keeping 0 word types\n",
            "2021-12-05 21:18:08,394 : INFO : collected 14436 word types from a corpus of 1065253 raw words and 2869 sentences\n",
            "2021-12-05 21:18:08,396 : INFO : Loading a fresh vocabulary\n",
            "2021-12-05 21:18:08,460 : INFO : effective_min_count=1 retains 14436 unique words (100% of original 14436, drops 0)\n",
            "2021-12-05 21:18:08,462 : INFO : effective_min_count=1 leaves 1065253 word corpus (100% of original 1065253, drops 0)\n",
            "2021-12-05 21:18:08,526 : INFO : deleting the raw counts dictionary of 14436 items\n",
            "2021-12-05 21:18:08,528 : INFO : sample=0.001 downsamples 46 most-common words\n",
            "2021-12-05 21:18:08,529 : INFO : downsampling leaves estimated 1008527 word corpus (94.7% of prior 1065253)\n",
            "2021-12-05 21:18:08,589 : INFO : estimated required memory for 14436 words and 300 dimensions: 41864400 bytes\n",
            "2021-12-05 21:18:08,590 : INFO : resetting layer weights\n",
            "2021-12-05 21:18:11,876 : INFO : training model with 4 workers on 14436 vocabulary and 300 features, using sg=0 hs=0 sample=0.001 negative=5 window=5\n",
            "2021-12-05 21:18:12,928 : INFO : EPOCH 1 - PROGRESS: at 37.85% examples, 345474 words/s, in_qsize 7, out_qsize 0\n",
            "2021-12-05 21:18:13,960 : INFO : EPOCH 1 - PROGRESS: at 74.90% examples, 360743 words/s, in_qsize 7, out_qsize 0\n",
            "2021-12-05 21:18:14,560 : INFO : worker thread finished; awaiting finish of 3 more threads\n",
            "2021-12-05 21:18:14,604 : INFO : worker thread finished; awaiting finish of 2 more threads\n",
            "2021-12-05 21:18:14,612 : INFO : worker thread finished; awaiting finish of 1 more threads\n",
            "2021-12-05 21:18:14,632 : INFO : worker thread finished; awaiting finish of 0 more threads\n",
            "2021-12-05 21:18:14,633 : INFO : EPOCH - 1 : training on 1065253 raw words (1008361 effective words) took 2.7s, 367160 effective words/s\n",
            "2021-12-05 21:18:15,653 : INFO : EPOCH 2 - PROGRESS: at 37.68% examples, 356392 words/s, in_qsize 8, out_qsize 1\n",
            "2021-12-05 21:18:16,657 : INFO : EPOCH 2 - PROGRESS: at 74.90% examples, 371337 words/s, in_qsize 7, out_qsize 0\n",
            "2021-12-05 21:18:17,325 : INFO : worker thread finished; awaiting finish of 3 more threads\n",
            "2021-12-05 21:18:17,334 : INFO : worker thread finished; awaiting finish of 2 more threads\n",
            "2021-12-05 21:18:17,344 : INFO : worker thread finished; awaiting finish of 1 more threads\n",
            "2021-12-05 21:18:17,352 : INFO : worker thread finished; awaiting finish of 0 more threads\n",
            "2021-12-05 21:18:17,354 : INFO : EPOCH - 2 : training on 1065253 raw words (1008627 effective words) took 2.7s, 372027 effective words/s\n",
            "2021-12-05 21:18:18,368 : INFO : EPOCH 3 - PROGRESS: at 37.68% examples, 357896 words/s, in_qsize 7, out_qsize 0\n",
            "2021-12-05 21:18:19,408 : INFO : EPOCH 3 - PROGRESS: at 74.90% examples, 365707 words/s, in_qsize 7, out_qsize 0\n",
            "2021-12-05 21:18:20,013 : INFO : worker thread finished; awaiting finish of 3 more threads\n",
            "2021-12-05 21:18:20,025 : INFO : worker thread finished; awaiting finish of 2 more threads\n",
            "2021-12-05 21:18:20,057 : INFO : worker thread finished; awaiting finish of 1 more threads\n",
            "2021-12-05 21:18:20,071 : INFO : worker thread finished; awaiting finish of 0 more threads\n",
            "2021-12-05 21:18:20,072 : INFO : EPOCH - 3 : training on 1065253 raw words (1008433 effective words) took 2.7s, 372147 effective words/s\n",
            "2021-12-05 21:18:21,094 : INFO : EPOCH 4 - PROGRESS: at 38.69% examples, 364479 words/s, in_qsize 7, out_qsize 0\n",
            "2021-12-05 21:18:22,115 : INFO : EPOCH 4 - PROGRESS: at 75.88% examples, 372433 words/s, in_qsize 7, out_qsize 0\n",
            "2021-12-05 21:18:22,701 : INFO : worker thread finished; awaiting finish of 3 more threads\n",
            "2021-12-05 21:18:22,712 : INFO : worker thread finished; awaiting finish of 2 more threads\n",
            "2021-12-05 21:18:22,741 : INFO : worker thread finished; awaiting finish of 1 more threads\n",
            "2021-12-05 21:18:22,745 : INFO : worker thread finished; awaiting finish of 0 more threads\n",
            "2021-12-05 21:18:22,746 : INFO : EPOCH - 4 : training on 1065253 raw words (1008702 effective words) took 2.7s, 378439 effective words/s\n",
            "2021-12-05 21:18:23,778 : INFO : EPOCH 5 - PROGRESS: at 39.60% examples, 369050 words/s, in_qsize 7, out_qsize 0\n",
            "2021-12-05 21:18:24,829 : INFO : EPOCH 5 - PROGRESS: at 76.82% examples, 369414 words/s, in_qsize 7, out_qsize 0\n",
            "2021-12-05 21:18:25,400 : INFO : worker thread finished; awaiting finish of 3 more threads\n",
            "2021-12-05 21:18:25,409 : INFO : worker thread finished; awaiting finish of 2 more threads\n",
            "2021-12-05 21:18:25,422 : INFO : worker thread finished; awaiting finish of 1 more threads\n",
            "2021-12-05 21:18:25,440 : INFO : worker thread finished; awaiting finish of 0 more threads\n",
            "2021-12-05 21:18:25,442 : INFO : EPOCH - 5 : training on 1065253 raw words (1008825 effective words) took 2.7s, 375185 effective words/s\n",
            "2021-12-05 21:18:25,443 : INFO : training on a 5326265 raw words (5042948 effective words) took 13.6s, 371744 effective words/s\n"
          ]
        }
      ],
      "source": [
        "# Train your own word vectors using gensim\n",
        "# print out tracking information\n",
        "logging.basicConfig(format='%(asctime)s : %(levelname)s : %(message)s', \\\n",
        "                    level=logging.INFO)\n",
        "sentences=[ custom_tokenize(doc) for doc in df.description]\n",
        "\n",
        "# min_count: words with total frequency lower than this are ignored\n",
        "# size: the dimension of word vector\n",
        "# window: context window, i.e. the maximum distance \n",
        "#         between the current and predicted word \n",
        "#         within a sentence (i.e. the length of ngrams)\n",
        "# workers: # of parallel threads in training\n",
        "# for other parameters, check https://radimrehurek.com/gensim/models/word2vec.html\n",
        "wv_model = word2vec.Word2Vec(sentences, \\\n",
        "            min_count=1, size=WORD_VEC_DIMENSION, \\\n",
        "            window=5, workers=4 )"
      ]
    },
    {
      "cell_type": "markdown",
      "metadata": {
        "id": "mPnvRaJ04IoC"
      },
      "source": [
        "### Test word2vec model"
      ]
    },
    {
      "cell_type": "code",
      "execution_count": null,
      "metadata": {
        "colab": {
          "base_uri": "https://localhost:8080/"
        },
        "id": "y3KvKOn5QbRA",
        "outputId": "141c00ff-247c-458b-d1cc-9b5c7a59695f"
      },
      "outputs": [
        {
          "name": "stderr",
          "output_type": "stream",
          "text": [
            "/usr/local/lib/python3.7/dist-packages/ipykernel_launcher.py:1: DeprecationWarning: Call to deprecated `similar_by_word` (Method will be removed in 4.0.0, use self.wv.similar_by_word() instead).\n",
            "  \"\"\"Entry point for launching an IPython kernel.\n",
            "2021-12-05 21:18:25,452 : INFO : precomputing L2-norms of word weight vectors\n"
          ]
        },
        {
          "data": {
            "text/plain": [
              "[('mentor', 0.724974513053894),\n",
              " ('tenured', 0.6985350847244263),\n",
              " ('designer', 0.67963707447052),\n",
              " ('qe', 0.6483292579650879),\n",
              " ('multidiscipline', 0.6304983496665955),\n",
              " ('assigned', 0.6259469985961914),\n",
              " ('staff', 0.6216787099838257),\n",
              " ('technician', 0.6192497611045837),\n",
              " ('sale', 0.6040326356887817),\n",
              " ('closely', 0.601628839969635)]"
            ]
          },
          "execution_count": 53,
          "metadata": {},
          "output_type": "execute_result"
        }
      ],
      "source": [
        "wv_model.similar_by_word('manager')"
      ]
    },
    {
      "cell_type": "code",
      "execution_count": null,
      "metadata": {
        "colab": {
          "base_uri": "https://localhost:8080/"
        },
        "id": "EKwMiYtD3k_g",
        "outputId": "1631b99f-8db8-4965-f902-200c75830222"
      },
      "outputs": [
        {
          "name": "stdout",
          "output_type": "stream",
          "text": [
            "Top 5 words similar to word 'scientist'\n"
          ]
        },
        {
          "data": {
            "text/plain": [
              "[('analyst', 0.707678496837616),\n",
              " ('architect', 0.684476375579834),\n",
              " ('researcher', 0.6818543076515198),\n",
              " ('physicist', 0.6698935627937317),\n",
              " ('designer', 0.650557279586792)]"
            ]
          },
          "execution_count": 54,
          "metadata": {},
          "output_type": "execute_result"
        }
      ],
      "source": [
        "print(\"Top 5 words similar to word 'scientist'\")\n",
        "wv_model.wv.most_similar('scientist', topn=5)"
      ]
    },
    {
      "cell_type": "code",
      "execution_count": null,
      "metadata": {
        "colab": {
          "base_uri": "https://localhost:8080/"
        },
        "id": "JxwNTdDB3zXt",
        "outputId": "52ac7794-c1f7-4699-b3db-c0c209edbd8d"
      },
      "outputs": [
        {
          "name": "stdout",
          "output_type": "stream",
          "text": [
            "Top 5 words similar to word 'engineer'\n"
          ]
        },
        {
          "data": {
            "text/plain": [
              "[('developer', 0.7451989650726318),\n",
              " ('analyst', 0.6401157975196838),\n",
              " ('designer', 0.6314972043037415),\n",
              " ('architect', 0.6287281513214111),\n",
              " ('engineering', 0.6092355251312256)]"
            ]
          },
          "execution_count": 55,
          "metadata": {},
          "output_type": "execute_result"
        }
      ],
      "source": [
        "print(\"Top 5 words similar to word 'engineer'\")\n",
        "wv_model.wv.most_similar('engineer', topn=5)"
      ]
    },
    {
      "cell_type": "code",
      "execution_count": null,
      "metadata": {
        "colab": {
          "base_uri": "https://localhost:8080/"
        },
        "id": "IxNc_gfCkBcs",
        "outputId": "43e0a4d0-ea6c-41d9-b8a4-1c21a82eb563"
      },
      "outputs": [
        {
          "name": "stdout",
          "output_type": "stream",
          "text": [
            "Top 5 words similar to word 'intern'\n"
          ]
        },
        {
          "data": {
            "text/plain": [
              "[('experienced', 0.612639307975769),\n",
              " ('internship', 0.5955079197883606),\n",
              " ('expect', 0.5773656964302063),\n",
              " ('summer', 0.5754691958427429),\n",
              " ('senior', 0.5600848197937012)]"
            ]
          },
          "execution_count": 56,
          "metadata": {},
          "output_type": "execute_result"
        }
      ],
      "source": [
        "print(\"Top 5 words similar to word 'intern'\")\n",
        "wv_model.wv.most_similar('intern', topn=5)"
      ]
    },
    {
      "cell_type": "code",
      "execution_count": null,
      "metadata": {
        "colab": {
          "base_uri": "https://localhost:8080/"
        },
        "id": "TOCM2z7IQePL",
        "outputId": "41d8b3c2-7ea0-42dd-dd17-a3c690570fbd"
      },
      "outputs": [
        {
          "name": "stdout",
          "output_type": "stream",
          "text": [
            "Similarity between 'manager' and 'engineer':\n"
          ]
        },
        {
          "data": {
            "text/plain": [
              "0.4708756"
            ]
          },
          "execution_count": 57,
          "metadata": {},
          "output_type": "execute_result"
        }
      ],
      "source": [
        "print(\"Similarity between 'manager' and 'engineer':\")\n",
        "wv_model.wv.similarity('manager', 'engineer')"
      ]
    },
    {
      "cell_type": "code",
      "execution_count": null,
      "metadata": {
        "colab": {
          "base_uri": "https://localhost:8080/"
        },
        "id": "TkOMKC6733b2",
        "outputId": "10fbbebb-5c3f-4d11-cb26-8bf27df503cd"
      },
      "outputs": [
        {
          "name": "stdout",
          "output_type": "stream",
          "text": [
            "Similarity between 'scientist' and 'engineer':\n"
          ]
        },
        {
          "data": {
            "text/plain": [
              "0.5966589"
            ]
          },
          "execution_count": 58,
          "metadata": {},
          "output_type": "execute_result"
        }
      ],
      "source": [
        "print(\"Similarity between 'scientist' and 'engineer':\")\n",
        "wv_model.wv.similarity('scientist', 'engineer')"
      ]
    },
    {
      "cell_type": "code",
      "execution_count": null,
      "metadata": {
        "colab": {
          "base_uri": "https://localhost:8080/"
        },
        "id": "4nyhtx0b39-m",
        "outputId": "faeec1b7-5d0a-4959-895c-92ecf997db31"
      },
      "outputs": [
        {
          "name": "stdout",
          "output_type": "stream",
          "text": [
            "Word vector for 'intern':\n"
          ]
        },
        {
          "data": {
            "text/plain": [
              "array([ 6.33203536e-02, -5.86446762e-01,  6.28974855e-01,  1.20304607e-01,\n",
              "       -1.91452295e-01,  1.14417660e+00,  1.40025425e+00, -8.35109353e-02,\n",
              "       -1.54416072e+00,  3.77794921e-01, -2.05130205e-01, -1.43942678e+00,\n",
              "        8.04282203e-02,  2.88107157e-01,  8.46846282e-01,  1.69269949e-01,\n",
              "       -1.71660554e+00,  4.20030653e-02, -1.14637625e+00, -1.49277294e+00,\n",
              "        1.38266611e+00, -9.92017612e-02, -7.96380281e-01,  6.47707522e-01,\n",
              "       -1.44323289e-01,  2.84711272e-01, -1.81398749e+00,  1.87609291e+00,\n",
              "       -1.64832389e+00,  2.45540246e-01, -1.18530381e+00,  1.58221102e+00,\n",
              "       -1.35164535e+00, -1.40341783e+00,  1.30549490e-01,  1.23405135e+00,\n",
              "       -1.03543246e+00, -2.04624265e-01,  7.50735343e-01,  3.63606691e-01,\n",
              "       -7.84315169e-01,  4.73145336e-01, -1.15245438e+00,  1.13849068e+00,\n",
              "        1.06418371e+00,  3.28085452e-01, -2.18114197e-01, -4.93469119e-01,\n",
              "       -2.98138648e-01, -1.36735380e+00,  7.78243020e-02, -2.24543035e-01,\n",
              "       -8.62991810e-01,  7.38501787e-01, -3.72590095e-01, -4.05172527e-01,\n",
              "        6.69060826e-01, -9.85865116e-01, -1.96892947e-01,  5.99000037e-01,\n",
              "        5.31780779e-01,  1.17189753e+00,  1.75220084e+00, -1.40471733e+00,\n",
              "       -1.73397064e+00,  1.30954063e+00,  6.15480125e-01, -1.60335732e+00,\n",
              "       -1.36019379e-01, -2.11196870e-01, -5.65222979e-01,  4.78975326e-01,\n",
              "        8.74777317e-01, -3.74751925e-01, -3.13965887e-01,  6.90876722e-01,\n",
              "        3.73527408e-01,  8.66930425e-01,  4.10657316e-01,  1.66901278e+00,\n",
              "       -4.43039209e-01, -2.92942580e-02, -1.27227533e+00,  7.90331006e-01,\n",
              "        3.54606330e-01, -1.22430541e-01, -6.73295856e-01,  4.49315071e-01,\n",
              "       -5.64660966e-01,  1.25618911e+00, -9.37149286e-01,  1.37753689e+00,\n",
              "        1.16715424e-01,  1.81714967e-01,  6.43063605e-01, -3.85912538e-01,\n",
              "       -7.41599083e-01,  4.14526373e-01, -2.43017644e-01, -8.89436245e-01,\n",
              "       -5.93592465e-01, -4.32469487e-01,  1.34597898e+00, -1.88684571e+00,\n",
              "       -5.64734101e-01, -1.47352850e+00,  7.88726747e-01,  1.01911336e-01,\n",
              "       -3.13998222e-01, -8.76745641e-01,  8.31608832e-01,  6.22092068e-01,\n",
              "       -5.37173510e-01,  4.72716600e-01, -5.11405230e-01, -9.23696756e-02,\n",
              "       -1.36635602e-01,  6.35360554e-02, -3.30449969e-01, -1.69848070e-01,\n",
              "        1.88624382e-03, -5.44662654e-01,  1.43562987e-01, -2.81162560e-01,\n",
              "       -7.39222467e-01, -1.00781965e+00, -1.32971728e+00, -1.67250681e+00,\n",
              "        3.69911224e-01, -5.67725420e-01,  9.95396554e-01, -5.16972721e-01,\n",
              "        8.38396072e-01,  2.58315682e-01,  1.82971907e+00,  3.92368436e-01,\n",
              "        4.75078046e-01,  7.37363696e-01, -1.14145505e+00,  4.61059213e-01,\n",
              "        1.50151002e+00,  2.10591823e-01, -2.51701117e-01, -6.90057755e-01,\n",
              "        6.27887487e-01,  6.70686662e-01, -2.57833093e-01,  2.24119723e-01,\n",
              "        2.22894967e-01,  1.75422740e+00,  9.40684497e-01, -6.26697600e-01,\n",
              "        6.05436444e-01,  6.87464416e-01,  1.07610631e+00, -1.75237715e-01,\n",
              "       -1.36894476e+00, -4.38749582e-01, -1.46256238e-01, -8.97795558e-01,\n",
              "        2.53129035e-01,  1.02549791e+00,  5.16466657e-03,  5.51919580e-01,\n",
              "       -1.01425624e+00,  8.98637772e-01,  9.57961082e-01,  1.31776482e-01,\n",
              "        5.16195416e-01,  8.21328342e-01, -8.66034627e-01, -1.40581261e-02,\n",
              "        4.52607751e-01, -6.02833748e-01, -1.37820125e+00, -7.11870492e-01,\n",
              "        7.85149410e-02, -2.95335829e-01, -4.11504447e-01,  3.73721272e-01,\n",
              "        1.45066476e+00, -4.68743503e-01,  3.58038366e-01,  5.30764282e-01,\n",
              "       -2.89771140e-01, -2.15876627e+00,  2.33634949e+00,  1.23229849e+00,\n",
              "       -1.03191233e+00, -6.13364935e-01, -1.28245562e-01,  6.07854091e-02,\n",
              "       -2.74066269e-01, -2.54676174e-02,  6.29781559e-02, -5.33733070e-01,\n",
              "        9.30428445e-01, -3.96917343e-01,  1.05075324e+00,  1.49834119e-02,\n",
              "        1.48032331e+00,  2.52780557e-01,  7.86512434e-01, -5.15800416e-01,\n",
              "        1.04670072e+00,  1.03440499e+00, -3.25508595e-01,  1.27846634e+00,\n",
              "       -3.60762924e-01,  4.32511300e-01, -1.52996576e+00,  1.27138391e-01,\n",
              "        1.32742894e+00,  3.18793654e-01,  1.13229012e+00,  9.09223497e-01,\n",
              "       -1.63264006e-01, -1.27042699e+00, -4.39306945e-01,  2.25446969e-01,\n",
              "        1.71992645e-01,  1.14731169e+00, -6.88063800e-01, -2.10749507e-02,\n",
              "       -2.96098977e-01,  6.14694297e-01,  1.00750101e+00, -1.37550175e+00,\n",
              "        3.15719098e-01, -3.16708028e-01, -2.73160160e-01, -3.39045495e-01,\n",
              "       -6.69452727e-01,  1.34243935e-01, -5.33533752e-01, -3.42391096e-02,\n",
              "        5.04409194e-01, -2.65324056e-01, -1.95260835e+00,  5.63785017e-01,\n",
              "       -9.71784368e-02,  4.82628793e-01, -4.67555285e-01,  3.86586159e-01,\n",
              "        1.12720132e+00, -7.98196569e-02,  9.98821929e-02, -1.64436126e+00,\n",
              "        2.21754357e-01, -5.74645460e-01,  1.08097458e+00, -4.03951257e-02,\n",
              "       -6.16140068e-01, -4.53635246e-01, -6.88040614e-01, -6.63724065e-01,\n",
              "        4.34246212e-01,  6.62013710e-01, -8.83260250e-01, -1.11171818e+00,\n",
              "        1.24202800e+00,  5.24744570e-01, -4.01149392e-01,  1.05706036e+00,\n",
              "       -6.14293218e-01,  3.32851559e-01,  1.18594132e-01, -5.03117144e-01,\n",
              "       -1.20246887e+00,  1.13092673e+00, -2.33762816e-01,  1.11186571e-01,\n",
              "       -5.89499138e-02, -9.30670023e-01,  2.16358110e-01, -7.85651505e-01,\n",
              "        1.22600079e+00, -2.11375758e-01, -8.46765190e-02, -1.67344284e+00,\n",
              "        6.53236568e-01, -8.20819855e-01,  6.29927516e-01, -2.77081043e-01,\n",
              "       -1.61621201e+00, -1.05789232e+00, -7.51119316e-01,  4.45570767e-01,\n",
              "       -1.12320173e+00, -4.32132423e-01, -9.43202257e-01,  5.05248249e-01,\n",
              "       -8.46240878e-01,  5.32584488e-01, -2.75001645e-01, -8.41095805e-01,\n",
              "       -8.29876482e-01, -3.76517355e-01, -1.47269225e+00,  4.56562459e-01],\n",
              "      dtype=float32)"
            ]
          },
          "execution_count": 59,
          "metadata": {},
          "output_type": "execute_result"
        }
      ],
      "source": [
        "print(\"Word vector for 'intern':\")\n",
        "wv_model.wv['intern']"
      ]
    },
    {
      "cell_type": "code",
      "execution_count": null,
      "metadata": {
        "colab": {
          "base_uri": "https://localhost:8080/"
        },
        "id": "L61SQejt_c9o",
        "outputId": "4d15b0ad-3d5b-4613-9bbe-1741f02e2d4a"
      },
      "outputs": [
        {
          "data": {
            "text/plain": [
              "300"
            ]
          },
          "execution_count": 60,
          "metadata": {},
          "output_type": "execute_result"
        }
      ],
      "source": [
        "# Check dimension of word vectors\n",
        "wv_model.vector_size"
      ]
    },
    {
      "cell_type": "markdown",
      "metadata": {
        "id": "iY2bOkgzqsoW"
      },
      "source": [
        "### Save Word2Vec Model"
      ]
    },
    {
      "cell_type": "markdown",
      "metadata": {
        "id": "h_VQUhJz_iZG"
      },
      "source": [
        "So the model will generate 300-dimensional word vectors, and all we have to do to create a vector is to pass it through the model. "
      ]
    },
    {
      "cell_type": "code",
      "execution_count": null,
      "metadata": {
        "colab": {
          "base_uri": "https://localhost:8080/"
        },
        "id": "EN03MxaGB7AC",
        "outputId": "56f79aa8-9d5d-407b-dab2-7fdafcced496"
      },
      "outputs": [
        {
          "name": "stderr",
          "output_type": "stream",
          "text": [
            "2021-12-05 21:18:25,696 : INFO : storing 14436x300 projection weights into vectors.txt\n",
            "2021-12-05 21:18:29,093 : INFO : saving Word2VecKeyedVectors object under word2vec.wordvectors, separately None\n",
            "2021-12-05 21:18:29,096 : INFO : not storing attribute vectors_norm\n",
            "2021-12-05 21:18:29,361 : INFO : saved word2vec.wordvectors\n"
          ]
        }
      ],
      "source": [
        "# Store just the words + their trained embeddings.\n",
        "word_vectors = wv_model.wv\n",
        "word_vectors.save_word2vec_format(\"vectors.txt\")\n",
        "word_vectors.save(\"word2vec.wordvectors\")"
      ]
    },
    {
      "cell_type": "markdown",
      "metadata": {
        "id": "24WX4YQjqw9N"
      },
      "source": [
        "### Visualize Embeddings"
      ]
    },
    {
      "cell_type": "markdown",
      "metadata": {
        "id": "lYbx7WK3XbpW"
      },
      "source": [
        "T-SNE, which is an algorithm which reduces our 100 dimension vectors to 2 dimensions. This will give us an idea of whether the model is generally doing a good job of positioning similar terms close to each other in the vector space"
      ]
    },
    {
      "cell_type": "code",
      "execution_count": null,
      "metadata": {
        "colab": {
          "base_uri": "https://localhost:8080/"
        },
        "id": "Ch63cS4_Qmjg",
        "outputId": "c565981a-2d48-4721-80f7-123069afaa04"
      },
      "outputs": [
        {
          "name": "stderr",
          "output_type": "stream",
          "text": [
            "2021-12-05 21:18:29,375 : INFO : loading Word2VecKeyedVectors object from word2vec.wordvectors\n",
            "2021-12-05 21:18:29,558 : INFO : setting ignored attribute vectors_norm to None\n",
            "2021-12-05 21:18:29,560 : INFO : loaded word2vec.wordvectors\n"
          ]
        },
        {
          "data": {
            "text/plain": [
              "300"
            ]
          },
          "execution_count": 62,
          "metadata": {},
          "output_type": "execute_result"
        }
      ],
      "source": [
        "# Load back with memory-mapping = read-only, shared across processes.\n",
        "wv = KeyedVectors.load(\"word2vec.wordvectors\", mmap='r')\n",
        "len(wv[wv.vocab][0])"
      ]
    },
    {
      "cell_type": "code",
      "execution_count": null,
      "metadata": {
        "colab": {
          "base_uri": "https://localhost:8080/"
        },
        "id": "EZkKvWx5HoWs",
        "outputId": "7ca388e4-3f8c-4980-cd10-18d96824806b"
      },
      "outputs": [
        {
          "name": "stdout",
          "output_type": "stream",
          "text": [
            "Size of Vocabulary: 14436\n",
            "Few words in Vocabulary ['make', 'honda', 'best', 'innovator', 'hondas', 'core', 'value', 'company', 'unique', 'dream', 'power', 'mentality', 'drive', 'team', 'create', 'intelligent', 'product', 'enhance', 'mobility', 'increase', 'joy', 'people', 'life', 'passion', 'experience', 'fueled', 'challenging', 'spirit', 'push', 'set', 'reach', 'ambitious', 'goal', 'voluntarily', 'reducing', 'carbon', 'dioxide', 'emission', 'developing', 'technology', 'reduce', 'number', 'collision', 'zero', 'respect', 'individual', 'associate', 'contribute', 'highest', 'level']\n",
            "Size of Vocabulary without stopwords: 14205\n",
            "Few words in Vocabulary without stopwords ['make', 'honda', 'best', 'innovator', 'hondas', 'core', 'value', 'company', 'unique', 'dream', 'power', 'mentality', 'drive', 'team', 'create', 'intelligent', 'product', 'enhance', 'mobility', 'increase', 'joy', 'people', 'life', 'passion', 'experience', 'fueled', 'challenging', 'spirit', 'push', 'set']\n"
          ]
        }
      ],
      "source": [
        "#Preprocessing our models vocabulary to make better visualizations \n",
        "from nltk.corpus import stopwords\n",
        "\n",
        "words_vocab= list(wv.vocab)#all the words in the vocabulary. \n",
        "print(\"Size of Vocabulary:\",len(words_vocab))\n",
        "print(\"Few words in Vocabulary\",words_vocab[:50])\n",
        "\n",
        "#Let us remove the stop words from this it will help making the visualization cleaner\n",
        "stopwords_en = stopwords.words()\n",
        "words_vocab_without_sw = [word.lower() for word in words_vocab if not word in stopwords_en]\n",
        "print(\"Size of Vocabulary without stopwords:\",len(words_vocab_without_sw))\n",
        "print(\"Few words in Vocabulary without stopwords\",words_vocab_without_sw[:30])"
      ]
    },
    {
      "cell_type": "code",
      "execution_count": null,
      "metadata": {
        "colab": {
          "base_uri": "https://localhost:8080/"
        },
        "id": "7wXqLOwIq22S",
        "outputId": "3c88d574-a1f6-4d92-91a4-d3ad888f17dc"
      },
      "outputs": [
        {
          "name": "stderr",
          "output_type": "stream",
          "text": [
            "2021-12-05 21:18:31,539 : INFO : precomputing L2-norms of word weight vectors\n"
          ]
        },
        {
          "data": {
            "text/plain": [
              "[('experienced', 0.612639307975769),\n",
              " ('internship', 0.5955079197883606),\n",
              " ('expect', 0.5773656964302063),\n",
              " ('summer', 0.5754691958427429),\n",
              " ('senior', 0.5600848197937012),\n",
              " ('analyst', 0.554445207118988),\n",
              " ('manager', 0.5461987257003784),\n",
              " ('engineer', 0.5424990057945251),\n",
              " ('mentoring', 0.5264652967453003),\n",
              " ('student', 0.5176998376846313)]"
            ]
          },
          "execution_count": 64,
          "metadata": {},
          "output_type": "execute_result"
        }
      ],
      "source": [
        "wv.most_similar('intern')"
      ]
    },
    {
      "cell_type": "markdown",
      "metadata": {
        "id": "8T0af02jAYEk"
      },
      "source": [
        "## Visualize similar words around Resume Sections "
      ]
    },
    {
      "cell_type": "code",
      "execution_count": null,
      "metadata": {
        "colab": {
          "base_uri": "https://localhost:8080/"
        },
        "id": "J87qeRlXI5LD",
        "outputId": "cd4e81d9-ed80-4944-fec9-31231cdf1d02"
      },
      "outputs": [
        {
          "name": "stdout",
          "output_type": "stream",
          "text": [
            "experience 50\n",
            "level 50\n",
            "skill 50\n",
            "location 50\n",
            "title 50\n",
            "company 50\n",
            "intern 50\n"
          ]
        }
      ],
      "source": [
        "keys = ['experience', 'level', 'skill', 'location', 'title', 'company', 'intern']\n",
        "embedding_clusters = []\n",
        "word_clusters = []\n",
        "\n",
        "for word in keys:\n",
        "    embeddings = []\n",
        "    words = []\n",
        "    for similar_word, _ in wv.most_similar(word, topn=50):\n",
        "        words.append(similar_word)\n",
        "        embeddings.append(wv[similar_word])\n",
        "    print(word,len(words))\n",
        "    # print(len(embeddings), len(embeddings[1]))\n",
        "    embedding_clusters.append(embeddings)#apending access vector of all similar words\n",
        "    word_clusters.append(words)#appending list of all smiliar words"
      ]
    },
    {
      "cell_type": "code",
      "execution_count": null,
      "metadata": {
        "colab": {
          "base_uri": "https://localhost:8080/"
        },
        "id": "Xm5UzKOwJI8Z",
        "outputId": "1685ad00-2339-401f-c048-538c09d84a8a"
      },
      "outputs": [
        {
          "name": "stdout",
          "output_type": "stream",
          "text": [
            "Embedding clusters: [-0.19964325  0.1003739  -0.19575131  0.46219856 -0.3422377   0.19884211\n",
            "  0.3296914  -0.08068076 -0.4269882  -0.08505988 -0.01768747 -0.44917104\n",
            "  0.09709171  0.98262405  0.72358304  0.033214    0.03914241  0.26804647\n",
            "  0.07827627 -0.33819893 -0.26488602  0.33997786 -0.81672734 -0.5954362\n",
            " -0.5775786   0.15175116 -0.2625165   0.41362298 -0.10732191  0.34310612\n",
            "  0.06384578 -0.6145901   0.68557316  0.02757345 -0.1024963   0.4210639\n",
            " -0.10005257  0.28273544  0.5074609   0.7020924   0.40274355  0.73673356\n",
            " -0.00533734  0.19378185 -0.24035974 -0.15283513  0.26860505 -0.08519842\n",
            " -0.12338777  0.43770635  0.02423409 -0.30714947 -0.3358416  -0.14951423\n",
            "  0.25690383 -0.11622645  1.0836016   0.08653882  0.34437212 -0.5708652\n",
            " -0.6400541   0.59214073  0.35893914 -0.50514317 -0.31644693  0.82193714\n",
            " -0.37202618 -0.5703298  -0.1720011  -0.06302324  0.00651735 -0.12819843\n",
            "  0.9149337   0.00953477 -0.41630366 -0.11381563  0.48960334 -0.01097718\n",
            " -0.41440964  0.5128103  -0.06312949 -0.68760693  0.33378708 -0.39501917\n",
            "  0.7345159  -0.36070916  0.17867228  0.77422017  0.18533097 -0.2512959\n",
            " -0.10140082 -0.17244431  0.13133687 -0.30719733  0.05420368 -0.4203624\n",
            "  0.3047062   0.30263394 -0.5822779   0.20242693 -0.10674858 -0.0612395\n",
            " -0.527755   -0.8191191  -0.03129704  0.13915202 -0.39484125  0.66191053\n",
            " -0.595099   -0.53727    -0.02418513  0.45509645 -0.84505713 -0.5655443\n",
            " -0.22750293 -0.775848   -0.5548694   0.43619028 -0.5851541  -0.27794054\n",
            " -0.02699659 -0.90670466 -0.1527434  -0.6706321   0.14319795 -0.26937824\n",
            " -0.29606262 -1.0316805   0.09631045  0.07219253  0.01020261  0.7127081\n",
            " -0.25053585  0.45747542  0.31657216  0.23447129  0.01235486  0.0474731\n",
            " -0.7132576   0.748936    0.9321019  -0.5307485   0.06350797  0.50775486\n",
            " -0.69085324 -0.56232613  0.11653849  0.0341957  -0.4337869   0.12136322\n",
            " -0.24154298  0.38923332  0.10022669  0.14750938 -0.02854489 -0.10632054\n",
            " -0.6718231  -0.8751845  -0.11203683 -0.78835183 -0.50219405  0.51669985\n",
            " -0.06086438  0.21897672 -0.14275558  0.10153967  0.09860187  0.19724438\n",
            "  0.21883337  0.20059031 -0.12630498  0.91015136 -0.6879473   0.03281803\n",
            " -0.07341932 -0.08349437 -0.5577336   0.1876886  -0.07901671 -0.00286415\n",
            "  0.01718003 -0.7409276   0.04048932 -0.48641863 -0.17772526  0.33187553\n",
            " -0.1998102  -0.05994931  0.07293339 -0.22543222 -0.06086749 -0.09427099\n",
            "  0.0794126  -0.40981266  0.0527369  -0.03904168 -0.08767779 -0.64119446\n",
            " -0.44934806 -0.63712025  0.4485699  -0.8081658   1.1605481   0.1701847\n",
            "  0.21725367  0.56906855  0.1050258   0.2328939  -0.00860384  0.0730937\n",
            " -0.50462335 -0.11476095  0.5813262   0.00617576  0.8029086   0.19897942\n",
            "  0.6984335   0.00509793  0.3290607  -0.58235425 -0.859028    0.8869462\n",
            " -0.05862251  0.01640153  0.23562442  0.87751174 -0.06404226  0.00721639\n",
            "  0.294029   -0.3449231   0.55780107 -0.47235087 -0.72240037  0.53038204\n",
            "  0.26100314 -0.63153756  1.0565854  -0.04089818 -0.40090585  0.21487728\n",
            "  0.5443157  -0.13663176  0.14624484 -0.17894432  0.8045797   0.79430085\n",
            "  0.82484704 -0.00279175  0.20498022 -0.4673996  -0.27027118  0.0590875\n",
            " -0.6963526   0.28829506  0.344092   -0.22529784 -0.00235622  0.99170965\n",
            "  0.24202038 -0.28885335 -0.7117006  -0.06678113  0.6467823   0.1987249\n",
            "  0.00840756  0.77609706 -0.41079277  0.23529631 -1.0204778  -0.3450081\n",
            "  0.2599306   0.17818211  1.0178431  -0.43701452 -0.6125511  -0.40755236\n",
            " -0.28216597  0.15764813  0.72907394  0.35585856 -0.3585181   0.21481048\n",
            " -0.05226408  0.37304705 -1.6207587   0.4708453  -0.38925174  0.53564155\n",
            " -0.2531947   0.09180658  0.01281269  0.5744618   0.64530104 -0.0937199\n",
            " -0.6912664  -0.15366894  0.95843256  0.867523   -0.7508665   0.30706942]\n",
            "Word Clusters: [['exposure', 'previous', 'practical', 'knowledge', 'gain', 'plus', 'understanding', 'coursework', 'earlycareerscarrier', 'specialization', 'willpresent', 'familiar', 'preferred', 'programming', 'earlycareers', 'cadworx', 'anthropometric', 'toolpathing', 'interest', 'informal', 'proficiency', 'enercalc', 'demonstrable', 'relevant', 'autocad', 'foundational', 'course', 'classroom', 'cad', 'strong', 'pardot', 'familiarity', 'solidworks', 'lvmh', 'inquisitive', 'stateflow', 'soap', 'skill', 'hand', 'expereince', 'preferably', 'competence', 'involvement', 'pdm', 'seasoned', 'ccna', 'modeler', 'aptitude', 'teamsupports', 'afonc'], ['entry', 'varying', 'responsibilitiesexplore', 'promotor', 'who', 'demonstrates', 'downstream', 'smrp', 'coworkers', 'performing', 'synthesizer', 'effectively', 'upholding', 'conformed', 'bandwidth', 'outstanding', 'joiner', 'experienced', 'education', 'senior', 'supervision', 'preforming', 'interacting', 'diploma', 'loud', 'geologist', 'tempo', 'wavelength', 'complexity', 'seasoned', 'inspector', 'attention', 'moderate', 'voltage', 'desired', 'rise', 'various', 'inserters', 'detail', 'informally', 'jwts', 'usually', 'school', 'intend', 'performanceteam', 'communicating', 'immerses', 'demonstrate', 'upstream', 'accuracy']]\n"
          ]
        }
      ],
      "source": [
        "print(\"Embedding clusters:\",embedding_clusters[0][0])\n",
        "#Access vector of the first word only\n",
        "print(\"Word Clusters:\",word_clusters[:2])\n",
        "\n",
        "# # check shapes\n",
        "# word_clusters=np.array(word_clusters)\n",
        "# embedding_clusters=np.array(embedding_clusters)\n",
        "# print(word_clusters.shape) # (3, 50)\n",
        "# print(embedding_clusters.shape) # (3, 50, 300)\n"
      ]
    },
    {
      "cell_type": "code",
      "execution_count": null,
      "metadata": {
        "colab": {
          "base_uri": "https://localhost:8080/"
        },
        "id": "OVB3RwITJMd-",
        "outputId": "ae6f1973-f637-4b7a-bcb5-273c24b5d6c5"
      },
      "outputs": [
        {
          "name": "stderr",
          "output_type": "stream",
          "text": [
            "/usr/local/lib/python3.7/dist-packages/sklearn/manifold/_t_sne.py:793: FutureWarning: The default learning rate in TSNE will change from 200.0 to 'auto' in 1.2.\n",
            "  FutureWarning,\n",
            "/usr/local/lib/python3.7/dist-packages/sklearn/manifold/_t_sne.py:986: FutureWarning: The PCA initialization in TSNE will change to have the standard deviation of PC1 equal to 1e-4 in 1.2. This will ensure better convergence.\n",
            "  FutureWarning,\n"
          ]
        }
      ],
      "source": [
        "from sklearn.manifold import TSNE\n",
        "import numpy as np\n",
        "\n",
        "embedding_clusters = np.array(embedding_clusters)\n",
        "n, m, k = embedding_clusters.shape #geting the dimensions\n",
        "tsne_model_en_2d = TSNE(perplexity=5, n_components=2, init='pca', n_iter=1500, random_state=2020) \n",
        "embeddings_en_2d = np.array(tsne_model_en_2d.fit_transform(embedding_clusters.reshape(n * m, k))).reshape(n, m, 2) #reshaping it into 2d so we can visualize it"
      ]
    },
    {
      "cell_type": "code",
      "execution_count": null,
      "metadata": {
        "id": "OL1veN5OJSm6"
      },
      "outputs": [],
      "source": [
        "from sklearn.manifold import TSNE\n",
        "import matplotlib.pyplot as plt\n",
        "import matplotlib.cm as cm\n",
        "import numpy as np\n",
        "%matplotlib inline  \n",
        "\n",
        "#script for constructing two-dimensional graphics using Matplotlib\n",
        "def tsne_plot_similar_words(labels, embedding_clusters, word_clusters, a=0.7):\n",
        "    plt.figure(figsize=(30, 20))\n",
        "    \n",
        "\n",
        "    for label, embeddings, words in zip(labels, embedding_clusters, word_clusters):\n",
        "        x = embeddings[:,0]\n",
        "        y = embeddings[:,1]\n",
        "        plt.scatter(x, y, alpha=a, label=label)\n",
        "        for i, word in enumerate(words):\n",
        "            plt.annotate(word, alpha=0.5, xy=(x[i], y[i]), xytext=(5, 2), \n",
        "                         textcoords='offset points', ha='right', va='bottom', size=8)\n",
        "    # plt.legend()\n",
        "    plt.grid(True)\n",
        "    plt.show()"
      ]
    },
    {
      "cell_type": "code",
      "execution_count": null,
      "metadata": {
        "colab": {
          "base_uri": "https://localhost:8080/",
          "height": 682
        },
        "id": "wk_Mn3mgK3ye",
        "outputId": "d3cc870f-f4c8-41fc-cf49-30a4b1684315"
      },
      "outputs": [
        {
          "name": "stderr",
          "output_type": "stream",
          "text": [
            "/usr/local/lib/python3.7/dist-packages/sklearn/manifold/_t_sne.py:793: FutureWarning: The default learning rate in TSNE will change from 200.0 to 'auto' in 1.2.\n",
            "  FutureWarning,\n",
            "/usr/local/lib/python3.7/dist-packages/sklearn/manifold/_t_sne.py:986: FutureWarning: The PCA initialization in TSNE will change to have the standard deviation of PC1 equal to 1e-4 in 1.2. This will ensure better convergence.\n",
            "  FutureWarning,\n"
          ]
        },
        {
          "data": {
            "image/png": "[encoded data removed]",
            "text/plain": [
              "<Figure size 2160x1440 with 1 Axes>"
            ]
          },
          "metadata": {
            "needs_background": "light"
          },
          "output_type": "display_data"
        }
      ],
      "source": [
        "tsne_model_en_2d = TSNE(perplexity=5, n_components=2, init='pca', n_iter=3500, random_state=32) \n",
        "embeddings_en_2d = np.array(tsne_model_en_2d.fit_transform(embedding_clusters.reshape(n * m, k))).reshape(n, m, 2)\n",
        "tsne_plot_similar_words(words_vocab_without_sw, embeddings_en_2d, word_clusters)"
      ]
    },
    {
      "cell_type": "markdown",
      "metadata": {
        "id": "13dlsvSK4R4_"
      },
      "source": [
        "## Test Similarity Using Word2Vec Model over Resume and Job"
      ]
    },
    {
      "cell_type": "markdown",
      "metadata": {
        "id": "DFRZfK_6-_2y"
      },
      "source": [
        " We've trained our Word2Vec model, now we'll use it to generate document vectors."
      ]
    },
    {
      "cell_type": "markdown",
      "metadata": {
        "id": "CbGODjLaz3y3"
      },
      "source": [
        "https://stackoverflow.com/questions/29760935/how-to-get-vector-for-a-sentence-from-the-word2vec-of-tokens-in-sentence\n",
        "\n",
        "shape: 252 x 100 -> 1 x 100\n",
        "\n",
        "There are differet methods to get the sentence vectors :\n",
        "\n",
        "\n",
        "\n",
        "\n",
        "* Doc2Vec : you can train your dataset using Doc2Vec and then use the sentence vectors.\n",
        "* Average of Word2Vec vectors : You can just take the average of all the word vectors in a sentence. This average vector will represent your sentence vector.\n",
        "*Average of Word2Vec vectors with TF-IDF : this is one of the best approach which I will recommend. Just take the word vectors and multiply it with their TF-IDF scores. Just take the average and it will represent your sentence vector.\n",
        "\n",
        "\n",
        "> TF-IDF removed influence of the most common word"
      ]
    },
    {
      "cell_type": "code",
      "execution_count": null,
      "metadata": {
        "id": "G7FjB_X3_1NL"
      },
      "outputs": [],
      "source": [
        "def convert_doc_to_vector(doc_text):\n",
        "  words = custom_tokenize(doc_text)\n",
        "\n",
        "  # Filter the list of vectors to include only those that Word2Vec has a vector for\n",
        "  vector_list = [wv[word] for word in words if word in wv.vocab]\n",
        "  # print(\"shape:\",len(vector_list),len(vector_list[0]))\n",
        "\n",
        "  # average Word2Vec\n",
        "  # compute average word2vec for each review.\n",
        "  # sent_vectors = []; # the avg-w2v for each sentence/review is stored in this list\n",
        "  \n",
        "  sent_vec = np.zeros(WORD_VEC_DIMENSION) # as word vectors are of zero length 100, \n",
        "  #you might need to change this to 300 if you use google's w2v\n",
        "  \n",
        "  cnt_words =0; # num of words with a valid vector in the sentence/review\n",
        "  for word in words: # for each word in a text\n",
        "    if word in wv.vocab:\n",
        "        vec = wv[word]\n",
        "        sent_vec += vec\n",
        "        cnt_words += 1\n",
        "  \n",
        "  if cnt_words != 0:\n",
        "      sent_vec /= cnt_words\n",
        "  # print(\"average w2v:\", sent_vec)\n",
        "  # print(sent_vec.shape)\n",
        "  # sent_vectors.append(sent_vec)\n",
        "  # print(len(sent_vectors))\n",
        "  # print(len(sent_vectors[0]))\n",
        "\n",
        "  # Create a list of the words corresponding to these vectors\n",
        "  words_filtered = [word for word in words if word in wv.vocab]\n",
        "\n",
        "  # Zip the words together with their vector representations\n",
        "  word_vec_zip = zip(words_filtered, vector_list) \n",
        "\n",
        "  # Cast to a dict so we can turn it into a DataFrame\n",
        "  word_vec_dict = dict(word_vec_zip)\n",
        "  doc_df = pd.DataFrame.from_dict(word_vec_dict, orient='index')\n",
        "  # print(doc_df.head(3))\n",
        "\n",
        "  # shape: 252 x 100 -> 1 x 100\n",
        "  # return doc_df, word_vec_dict, sent_vec\n",
        "  return sent_vec"
      ]
    },
    {
      "cell_type": "markdown",
      "metadata": {
        "id": "iYDAEuo30vQo"
      },
      "source": [
        "We got ourselves a dictionary mapping word -> 300-dimensional vector. Now we can use it to build features. \n"
      ]
    },
    {
      "cell_type": "code",
      "execution_count": null,
      "metadata": {
        "colab": {
          "base_uri": "https://localhost:8080/"
        },
        "id": "I8pTjDIvQe4l",
        "outputId": "8e73015b-8f81-4373-b69e-1185bceb64c1"
      },
      "outputs": [
        {
          "name": "stdout",
          "output_type": "stream",
          "text": [
            "Total:  2 different vectors\n",
            "Resume Text:  300 measurements\n",
            "Job Text:  300 measurements\n",
            "Your resume matches about 50.59% of the job description.\n"
          ]
        }
      ],
      "source": [
        "vectors = [convert_doc_to_vector(sentence) for sentence in text_list] # text_list = [resume_text, job_text]\n",
        "print(\"Total: \", len(vectors), \"different vectors\")\n",
        "print(\"Resume Text: \", len(vectors[0]), \"measurements\")\n",
        "print(\"Job Text: \", len(vectors[1]), \"measurements\")\n",
        "embeddings_similarity = calculate_similarity(vectors)"
      ]
    },
    {
      "cell_type": "markdown",
      "metadata": {
        "id": "x-D6ZFEqlrxX"
      },
      "source": [
        "# Profile Matcher\n",
        "\n",
        "\n",
        "    \n"
      ]
    },
    {
      "cell_type": "markdown",
      "metadata": {
        "id": "9FwRqeywry1H"
      },
      "source": [
        "## Architecture"
      ]
    },
    {
      "cell_type": "markdown",
      "metadata": {
        "id": "xAR_SQZsr1o3"
      },
      "source": [
        "## Assumptions\n",
        "\n",
        "\n",
        "> Language Supported: English\n",
        "\n",
        "TODO State all assumption for scraping and data ananlysis"
      ]
    },
    {
      "cell_type": "markdown",
      "metadata": {
        "id": "7ajXVSvMrAdH"
      },
      "source": [
        "## Putting all things together"
      ]
    },
    {
      "cell_type": "code",
      "execution_count": null,
      "metadata": {
        "id": "x_BwtWLXo94x"
      },
      "outputs": [],
      "source": [
        "\"\"\"\n",
        "Calculates Cosine Similarity match for vectors of \n",
        "given two input documents (resume and job)\n",
        "\"\"\"\n",
        "class Matcher:\n",
        "  def __init__(self, resume, job):\n",
        "    self.resume = resume\n",
        "    self.job = job\n",
        "    self.similarities = {}\n",
        "  \n",
        "  def _calculate_similarity(self, matrixx):\n",
        "    matchPercentage = cosine_similarity(matrixx)[0][1] * 100\n",
        "    matchPercentage = round(matchPercentage, 2) # round to two decimal\n",
        "    # print(\"Resume matches about \"+ str(matchPercentage)+ \"% of the job description.\")\n",
        "    return matchPercentage\n",
        "\n",
        "  def _find_keywords(self, curr_ratio ):\n",
        "    # gives you the keywords of the job description\n",
        "    print(\"Job description Keywords: \")\n",
        "    print(keywords(self.job, ratio=curr_ratio)) \n",
        "    print(\"\\nResume description Keywords: \")\n",
        "    print(keywords(self.resume, ratio=curr_ratio))\n",
        "\n",
        "  def _print_embeddings_shape(self, vectors):\n",
        "    print(\"Total: \", len(vectors), \"different vectors\")\n",
        "    print(\"Resume Text: \", len(vectors[0]), \"measurements\")\n",
        "    print(\"Job Text: \", len(vectors[1]), \"measurements\")\n",
        "\n",
        "  def _custom_tokenize(self, doc):\n",
        "    doc = doc.lower()\n",
        "    doc = re.sub(r'\\S*@\\S*\\s?', '', doc, flags=re.MULTILINE) \n",
        "    doc = re.sub(r'http\\S+', '', doc, flags=re.MULTILINE)\n",
        "    doc = re.sub(r'www\\.\\S+', '', doc, flags=re.MULTILINE)\n",
        "    doc = re.sub(r'[^\\u0000-\\u007F]+', '', doc, flags=re.MULTILINE)\n",
        "    doc = re.sub(r'[^\\w\\s]', ' ', doc, flags=re.MULTILINE) # replace punctuations by space\n",
        "    doc = re.sub(r'\\b\\d+\\b', '', doc, flags=re.MULTILINE)\n",
        "    doc = re.sub(r'[^\\w\\s]', '', doc, flags=re.MULTILINE) \n",
        "\n",
        "    stop_words = set(stopwords.words(\"english\"))\n",
        "    wordnet_lemmatizer = WordNetLemmatizer()\n",
        "\n",
        "    return [wordnet_lemmatizer.lemmatize(token.strip(string.punctuation).strip()) \\\n",
        "              for token in nltk.word_tokenize(doc.lower()) \\\n",
        "                  if token not in string.punctuation and \\\n",
        "                    not containsNumber(token) and \\\n",
        "                    token not in stop_words and \\\n",
        "                  len(wordnet_lemmatizer.lemmatize(token.strip(string.punctuation).strip()))>=2]\n",
        "\n",
        "  def _convert_doc_to_vector(self, doc_text):\n",
        "    words = self._custom_tokenize(doc_text)\n",
        "    # Filter the list of vectors to include only those that Word2Vec has a vector for\n",
        "    vector_list = [wv[word] for word in words if word in wv.vocab]\n",
        "    # print(\"shape:\",len(vector_list),len(vector_list[0]))\n",
        "\n",
        "    # average Word2Vec\n",
        "    # compute average word2vec for each review.\n",
        "    # sent_vectors = []; # the avg-w2v for each sentence/review is stored in this list\n",
        "  \n",
        "    sent_vec = np.zeros(WORD_VEC_DIMENSION)  \n",
        "    \n",
        "    cnt_words =0; # num of words with a valid vector in the sentence/review\n",
        "    for word in words: # for each word in a text\n",
        "      if word in wv.vocab:\n",
        "          vec = wv[word]\n",
        "          sent_vec += vec\n",
        "          cnt_words += 1\n",
        "    \n",
        "    if cnt_words != 0:\n",
        "        sent_vec /= cnt_words\n",
        "\n",
        "    # Create a list of the words corresponding to these vectors\n",
        "    words_filtered = [word for word in words if word in wv.vocab]\n",
        "\n",
        "    # Zip the words together with their vector representations\n",
        "    word_vec_zip = zip(words_filtered, vector_list) \n",
        "\n",
        "    # Cast to a dict so we can turn it into a DataFrame\n",
        "    word_vec_dict = dict(word_vec_zip)\n",
        "    doc_df = pd.DataFrame.from_dict(word_vec_dict, orient='index')\n",
        "\n",
        "    # shape: 252 x 100 -> 1 x 100\n",
        "    # return doc_df, word_vec_dict, sent_vec\n",
        "    return sent_vec\n",
        "\n",
        "  def compare_similarities(self):\n",
        "    similarities = {}\n",
        "    text_list = [self.resume, self.job]\n",
        "\n",
        "    # CountVectorizer applied on some collection of strings\n",
        "    # occurences mapped to feature index\n",
        "    cv = CountVectorizer(tokenizer=self._custom_tokenize, min_df = 1, lowercase = True)\n",
        "    count_matrix = cv.fit_transform(text_list)\n",
        "    # print(\"CountVectorizer Transformation:\")\n",
        "    # print(count_matrix.shape)\n",
        "    \n",
        "    cv_similarity = self._calculate_similarity(count_matrix)\n",
        "    similarities['CV'] = cv_similarity\n",
        "\n",
        "    # frequencies mapped to feature index\n",
        "    tf_transformer = TfidfTransformer(use_idf=False).fit(count_matrix)\n",
        "    X_train_tf = tf_transformer.transform(count_matrix)\n",
        "    # print(\"TF Transformation:\")\n",
        "    # print(X_train_tf.shape)\n",
        "\n",
        "    tf_similarity = self._calculate_similarity(X_train_tf)\n",
        "    similarities['TF'] = tf_similarity\n",
        "\n",
        "\n",
        "    tfidf_transformer = TfidfTransformer()\n",
        "    X_train_tfidf = tfidf_transformer.fit_transform(count_matrix)\n",
        "    # print(\"TF-IDF Transformation:\")\n",
        "    # print(X_train_tfidf.shape)\n",
        "\n",
        "    tfidf_similarity = self._calculate_similarity(X_train_tfidf)\n",
        "    similarities['TF-IDF'] = tfidf_similarity  \n",
        "  \n",
        "    # pre-trained embeddings\n",
        "    vectors = [nlp(sentence).vector for sentence in text_list]\n",
        "    # self._print_embeddings_shape(vectors)\n",
        "    pre_embeddings_similarity = self._calculate_similarity(vectors)\n",
        "    similarities['PreTrained-Embeddings'] = pre_embeddings_similarity  \n",
        "\n",
        "    # custom trained embeddings\n",
        "    vectors = []\n",
        "    vectors = [self._convert_doc_to_vector(sentence) for sentence in text_list]\n",
        "    # self._print_embeddings_shape(vectors)\n",
        "    embeddings_similarity = self._calculate_similarity(vectors)\n",
        "    similarities['CustomTrained-Embeddings'] = embeddings_similarity\n",
        "    self.similarities = similarities\n"
      ]
    },
    {
      "cell_type": "code",
      "execution_count": null,
      "metadata": {
        "id": "8xkQv1sv-wdO"
      },
      "outputs": [],
      "source": [
        "\"\"\" \n",
        "Matches a resume with a each of job listings and ranks the result based on the similarity matches\n",
        "\"\"\"\n",
        "class ProfileMatcher:\n",
        "  def __init__(self, resume_path, job_data):\n",
        "    self.resume_path = resume_path\n",
        "    self.job_data = job_data\n",
        "    self.resume = None\n",
        "    self.resume_clean = None\n",
        "    self.results = None\n",
        "  \n",
        "  def _parse_resume(self):\n",
        "    # # 4.1. Parse PDF file using Tika\n",
        "    parsed = parser.from_file(self.resume_path)\n",
        "    self.resume = parsed[\"content\"]\n",
        "    # remove all \\n{3} with \\n\\n\n",
        "    # keep \\n\\n as separation of headings\n",
        "    self.resume_clean = re.sub(r'\\n{3,}', '\\n\\n', parsed[\"content\"]).strip()\n",
        "\n",
        "  def get_rank(self, job_level, rank_by_type = None, title_pattern = None):\n",
        "    if job_level is None:\n",
        "      return\n",
        "\n",
        "    if rank_by_type is None:\n",
        "      rank_by_type = 4 # custom embeddings # 0th index\n",
        "\n",
        "    # Future scope - other positions supported\n",
        "    # regex-pattern dictionary for job-levels\n",
        "    patterns = {}\n",
        "    patterns['intern'] = r\"intern(?=(ship\\b|s\\b|\\s*[\\)\\]]|\\b|$))\"\n",
        "    patterns['entry-level'] = r\"entry.level(\\b|$)\"\n",
        "    patterns['co-op'] = r\"co.op(?=([\\)\\]])|\\b|$)\"\n",
        "    patterns['intern/co-op'] = r\"(intern(?=(ship\\b|s\\b|\\s*[\\)\\]]|\\b|$))|co.op(?=([\\)\\]])|\\b|$))\"\n",
        "\n",
        "    job_level= job_level.lower()\n",
        "    if job_level not in patterns.keys():\n",
        "      print(\"Please enter valid job_level: {intern, entry-level, co-op, intern/co-op} \")\n",
        "      return\n",
        "\n",
        "    self._parse_resume()\n",
        "    # select subset of job data\n",
        "    job_list = self.job_data[[\"title\", \"description\",\"seniority_level\",\"link\", \"apply_link\"]]\n",
        "\n",
        "    # FUTURE SCOPE\n",
        "    # 'company', 'location', 'date'\n",
        "\n",
        "    sim_list = []\n",
        "    print(\"Getting Profile Based Ranking for the Job List....\")\n",
        "    for index, row in job_list.iterrows():\n",
        "      # print(row['title']) #row['description'])\n",
        "      matcherObject = Matcher(self.resume_clean, row['description'])\n",
        "      matcherObject.compare_similarities()\n",
        "      sdf = matcherObject.similarities\n",
        "      # check if title , seniority_level -> intern or entry level\n",
        "      if  bool(re.search(patterns[job_level], str(row['seniority_level']).lower())) or \\\n",
        "      bool(re.search(patterns[job_level], row['title'].lower())):\n",
        "        sdf['MatchedLevel'] = 100\n",
        "      else:\n",
        "        sdf['MatchedLevel'] = 0\n",
        "      \n",
        "      \n",
        "      # check if title contains input pattern\n",
        "      if title_pattern and bool(re.search(title_pattern, row['title'].lower())):\n",
        "        sdf['MatchedTitle'] = 100\n",
        "      else:\n",
        "        sdf['MatchedTitle'] = 0\n",
        "      \n",
        "      sdf['Title'] = row['title']\n",
        "      sdf['JobLevel'] = row['seniority_level']\n",
        "      # sdf['ApplyHere'] = row['apply_link']\n",
        "      # sdf['JobLink'] = row['link']\n",
        "      # sdf['Description'] = row['description']\n",
        "      sim_list.append(sdf)\n",
        "    \n",
        "    df_results = pd.DataFrame(sim_list)    \n",
        "\n",
        "\n",
        "    # Getting total score for ranking\n",
        "    df_results['TotalScore'] = df_results['MatchedLevel'] + \\\n",
        "                                df_results['MatchedTitle'] + \\\n",
        "                                  df_results.iloc[:, rank_by_type]\n",
        "    df_rank = df_results.sort_values([\"MatchedLevel\", \"TotalScore\"], ascending=False)\n",
        "\n",
        "    self.results = df_rank\n",
        "    print(\"Successful!!!\")"
      ]
    },
    {
      "cell_type": "markdown",
      "metadata": {
        "id": "je6bOmue1SF1"
      },
      "source": [
        "## Execute Profile Matcher Here"
      ]
    },
    {
      "cell_type": "markdown",
      "metadata": {
        "id": "wyBK_M9YlGAb"
      },
      "source": [
        "#### Load Trained Model"
      ]
    },
    {
      "cell_type": "code",
      "execution_count": null,
      "metadata": {
        "colab": {
          "base_uri": "https://localhost:8080/"
        },
        "id": "9wDk79G_lK0A",
        "outputId": "794f2996-3c8f-4f35-d0a1-34d026dd7a7a"
      },
      "outputs": [
        {
          "name": "stderr",
          "output_type": "stream",
          "text": [
            "2021-12-05 21:57:54,188 : INFO : loading Word2VecKeyedVectors object from word2vec.wordvectors\n",
            "2021-12-05 21:57:54,676 : INFO : setting ignored attribute vectors_norm to None\n",
            "2021-12-05 21:57:54,678 : INFO : loaded word2vec.wordvectors\n"
          ]
        }
      ],
      "source": [
        "# Load back with memory-mapping = read-only, shared across processes.\n",
        "wv = KeyedVectors.load(\"word2vec.wordvectors\", mmap='r')"
      ]
    },
    {
      "cell_type": "code",
      "execution_count": null,
      "metadata": {
        "colab": {
          "base_uri": "https://localhost:8080/"
        },
        "id": "pVGG_FUhmS3R",
        "outputId": "b3731a55-2174-4c3a-93ca-64490c2b762f"
      },
      "outputs": [
        {
          "data": {
            "text/plain": [
              "14436"
            ]
          },
          "execution_count": 95,
          "metadata": {},
          "output_type": "execute_result"
        }
      ],
      "source": [
        "len(wv.vocab)"
      ]
    },
    {
      "cell_type": "markdown",
      "metadata": {
        "id": "FK3ZJftiCs7P"
      },
      "source": [
        "### Get Test Data\n",
        "\n",
        "* This should currently be an excel sheet."
      ]
    },
    {
      "cell_type": "code",
      "execution_count": null,
      "metadata": {
        "id": "SGOsSDbl77in"
      },
      "outputs": [],
      "source": [
        "# df = pd.concat(pd.read_excel('/content/all_scrapped_jobs.xlsx', sheet_name=None), ignore_index=True)\n",
        "test_data = pd.read_excel('/content/drive/MyDrive/660-jobs-data/all_scrapped_jobs.xlsx', sheet_name='Sheet10')"
      ]
    },
    {
      "cell_type": "markdown",
      "metadata": {
        "id": "k-RpJ1YbCyyC"
      },
      "source": [
        "### Run Profile Matcher \n",
        "Input:\n",
        "1. Resume Path\n",
        "2. Test data above\n",
        "\n",
        "Ouptut: \n",
        "\n",
        "returns"
      ]
    },
    {
      "cell_type": "code",
      "execution_count": null,
      "metadata": {
        "id": "zX5R7QdE6LoU"
      },
      "outputs": [],
      "source": [
        "resume_path = \"/content/archana-kalburgi-cv.pdf\" # expected type can be doc, docx , pdf\n",
        "job_data = test_data # format :\n",
        "job_level = \"intern/co-op\" # this can be from {intern, entry-level, co-op, intern/co-op}\n",
        "# this should be regex pattern\n",
        "title_pattern = r\"((sw|s\\/w|software).*engineer)|((data)\\s+(engineer|science))|(machine.*learning.*engineer)\" "
      ]
    },
    {
      "cell_type": "code",
      "execution_count": null,
      "metadata": {
        "colab": {
          "base_uri": "https://localhost:8080/"
        },
        "id": "__xCx7hV6gyF",
        "outputId": "4dd0c2e5-683a-48c0-f76c-1289f00cc96e"
      },
      "outputs": [
        {
          "name": "stdout",
          "output_type": "stream",
          "text": [
            "Getting Profile Based Ranking for the Job List....\n",
            "Getting Profile Based Ranking for the Job List....\n",
            "Successful!!!\n",
            "Getting Profile Based Ranking for the Job List....\n",
            "Successful!!!\n",
            "Getting Profile Based Ranking for the Job List....\n",
            "Successful!!!\n",
            "Getting Profile Based Ranking for the Job List....\n"
          ]
        }
      ],
      "source": [
        "column_name = [\"CV\", \"TF\", \"TF-IDF\", \"PreTrained\" , \"CustomTrained\"]\n",
        "for index in range(0,5):\n",
        "  pm = None\n",
        "  pm = ProfileMatcher(resume_path,job_data)\n",
        "  # get_rank inputs: seniority-level , type of comparison (Column No - 0: CV, 1: TF, 2: TF-IDF, 3: Pre , 4: Custom) , title \n",
        "  pm.get_rank(job_level,index, title_pattern)\n",
        "  pm.results.to_excel(\"rank_by_\"+column_name[index]+\".xlsx\")"
      ]
    }
  ],
  "metadata": {
    "colab": {
      "collapsed_sections": [
        "ZFsYt4m6sB_P",
        "l0jQqEkCoUAa",
        "Qk_7GKXioaq5",
        "uiDMh-hSokEb",
        "4MQE9vwriPX8",
        "mPnvRaJ04IoC"
      ],
      "name": "ProfileMatcher.ipynb",
      "provenance": []
    },
    "kernelspec": {
      "display_name": "Python 3",
      "name": "python3"
    },
    "language_info": {
      "name": "python"
    }
  },
  "nbformat": 4,
  "nbformat_minor": 0
}
